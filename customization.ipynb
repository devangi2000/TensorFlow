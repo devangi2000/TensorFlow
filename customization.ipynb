{
  "nbformat": 4,
  "nbformat_minor": 0,
  "metadata": {
    "colab": {
      "name": "customization.ipynb",
      "provenance": []
    },
    "kernelspec": {
      "name": "python3",
      "display_name": "Python 3"
    },
    "accelerator": "GPU"
  },
  "cells": [
    {
      "cell_type": "markdown",
      "metadata": {
        "id": "Eag8on3UWKwY"
      },
      "source": [
        "We use TensorFlow to implement various machine learning/ deep learning models.There are many situations in practical where we may be required to implement customised models or use existing TensorFlow functionality and extend it. TensorFlow 2.0 provides this support to to suit our needs.\r\n",
        "\r\n",
        "The most obvious difference between NumPy arrays and Tensors are that tensors are backed up by accelerator memory (such as GPU, TPU) and tensors are immutable.\r\n",
        "\r\n",
        "Converting between a TensorFlow tensors and NumPy array is easy. TensorFlow operations automatically convert NumPy arrays to tensors; and NumPy operations automatically convert tensors to NumPy array. Tensors are explicitly converted to NumPy array using `.numpy()` method.These conversions are cheap, because the NumPy array and tensor share the same underlying memory representation. However, sharing the underlying representation is not always possible as tensors also reside in the accelerator's memory. If the tensor is hosted in the GPU, then we first need to copy it to memory, a carry out the conversion to  NumPy. \r\n",
        "\r\n",
        "Many TensorFlow operations can be accelerated using GPUs without any annotations.TensorFlow automatically decides whether to use GPU or CPU for any operation. When it decides to use a GPU, it copies the data to GPU and use it for performing thedesired operation.Tensors produced by the operation are typically backed by memory of the device on which the operation was executed.\r\n",
        "\r\n",
        "### DEVICE NAMES:\r\n",
        "We can check if there's a GPI using `tf.test.is_gpu_available()` method.\r\n",
        "\r\n",
        "We can check if the tensor is stored on the GPU using `tensor.device.endswith()` method, where we can see if the tensor is stored on GPU. \r\n",
        "\r\n",
        "How are device names specified in TensorFlow?\r\n",
        "The 'tensor.device` property provides a complete, qualified string name of the device hosting the contents in consideration. \r\n",
        "For instance: \r\n",
        " `/job:localhost/replica:0/task:0/device:GPU:0 ` \r\n",
        "There are two parts to it:\r\n",
        "- The name encodes many details such as the identifier of the network address of the host where the program is being executed \r\n",
        "- The device within that host.\r\n",
        "\r\n",
        "One device may have multiple GPUs and could be multiple such devices. So, there could be device number 1,2,etc. with each device consisting of multiple GPUs. \r\n",
        "To understand where the tensor is stored,we need the device identifier: there are two things that we need to know-\r\n",
        "- device ID\r\n",
        "- GPU ID within the device.\r\n",
        "\r\n",
        "Say, we have a string that will have things like, `device:1 GPU:N` where 'N' is GPU ID. The GPUs on this first device are say 0, 1 and 2. So, this particular GPU gets identified as device:1 GPU:0. This particular path gives us a complete identification of the device where the tensor is stored."
      ]
    },
    {
      "cell_type": "code",
      "metadata": {
        "id": "_zzvbcdGW_1q"
      },
      "source": [
        "import tensorflow as tf\r\n",
        "import numpy as np"
      ],
      "execution_count": 1,
      "outputs": []
    },
    {
      "cell_type": "code",
      "metadata": {
        "colab": {
          "base_uri": "https://localhost:8080/"
        },
        "id": "5vGgmWNyXC0N",
        "outputId": "1df7acfc-c952-4855-d4ce-b966083d48c9"
      },
      "source": [
        "# add two scalars\r\n",
        "print(tf.add(1,2))\r\n",
        "\r\n",
        "#add two vectors\r\n",
        "print(tf.add([1,2], [3,4]))\r\n",
        "\r\n",
        "#square the numbers\r\n",
        "print(tf.square(5))\r\n",
        "\r\n",
        "#sum elements in a list and return scalar\r\n",
        "print(tf.reduce_sum([1,2,3]))\r\n",
        "\r\n",
        "#Operator overloading\r\n",
        "print(tf.square(2)+tf.square(3))"
      ],
      "execution_count": 2,
      "outputs": [
        {
          "output_type": "stream",
          "text": [
            "tf.Tensor(3, shape=(), dtype=int32)\n",
            "tf.Tensor([4 6], shape=(2,), dtype=int32)\n",
            "tf.Tensor(25, shape=(), dtype=int32)\n",
            "tf.Tensor(6, shape=(), dtype=int32)\n",
            "tf.Tensor(13, shape=(), dtype=int32)\n"
          ],
          "name": "stdout"
        }
      ]
    },
    {
      "cell_type": "code",
      "metadata": {
        "colab": {
          "base_uri": "https://localhost:8080/"
        },
        "id": "Ysz4d5R2KC3A",
        "outputId": "eed21c1b-fb62-4c91-dd80-0ae9c11e2dcf"
      },
      "source": [
        "x = tf.matmul([[1]], [[2,3]])\r\n",
        "print(x)\r\n",
        "print(x.shape)\r\n",
        "print(x.dtype)"
      ],
      "execution_count": 3,
      "outputs": [
        {
          "output_type": "stream",
          "text": [
            "tf.Tensor([[2 3]], shape=(1, 2), dtype=int32)\n",
            "(1, 2)\n",
            "<dtype: 'int32'>\n"
          ],
          "name": "stdout"
        }
      ]
    },
    {
      "cell_type": "code",
      "metadata": {
        "colab": {
          "base_uri": "https://localhost:8080/"
        },
        "id": "kHTktM8oKYnf",
        "outputId": "6ff6482c-c756-4998-9d45-1f461984b2cb"
      },
      "source": [
        "ndarray = np.ones([3,3])\r\n",
        "print(ndarray)\r\n",
        "tensor = tf.multiply((ndarray), 42)\r\n",
        "print(tensor)\r\n"
      ],
      "execution_count": 4,
      "outputs": [
        {
          "output_type": "stream",
          "text": [
            "[[1. 1. 1.]\n",
            " [1. 1. 1.]\n",
            " [1. 1. 1.]]\n",
            "tf.Tensor(\n",
            "[[42. 42. 42.]\n",
            " [42. 42. 42.]\n",
            " [42. 42. 42.]], shape=(3, 3), dtype=float64)\n"
          ],
          "name": "stdout"
        }
      ]
    },
    {
      "cell_type": "code",
      "metadata": {
        "colab": {
          "base_uri": "https://localhost:8080/"
        },
        "id": "nY6_yKtCQIRg",
        "outputId": "0e5c6605-91e3-4d12-94c7-2153d52f1fe7"
      },
      "source": [
        "print(np.add(tensor, 1))\r\n"
      ],
      "execution_count": 5,
      "outputs": [
        {
          "output_type": "stream",
          "text": [
            "[[43. 43. 43.]\n",
            " [43. 43. 43.]\n",
            " [43. 43. 43.]]\n"
          ],
          "name": "stdout"
        }
      ]
    },
    {
      "cell_type": "code",
      "metadata": {
        "colab": {
          "base_uri": "https://localhost:8080/"
        },
        "id": "xdFghZsMQXE4",
        "outputId": "db19e810-ddc8-4242-872a-334d49deb49a"
      },
      "source": [
        "print(tensor.numpy())"
      ],
      "execution_count": 6,
      "outputs": [
        {
          "output_type": "stream",
          "text": [
            "[[42. 42. 42.]\n",
            " [42. 42. 42.]\n",
            " [42. 42. 42.]]\n"
          ],
          "name": "stdout"
        }
      ]
    },
    {
      "cell_type": "code",
      "metadata": {
        "colab": {
          "base_uri": "https://localhost:8080/"
        },
        "id": "OF7fwH9bQdou",
        "outputId": "0d71de73-3850-4892-ee6a-1defbfe31e2c"
      },
      "source": [
        "x = tf.random.uniform([3,3])\r\n",
        "\r\n",
        "print(tf.test.is_gpu_available())"
      ],
      "execution_count": 7,
      "outputs": [
        {
          "output_type": "stream",
          "text": [
            "WARNING:tensorflow:From <ipython-input-7-92eb8474cfc7>:3: is_gpu_available (from tensorflow.python.framework.test_util) is deprecated and will be removed in a future version.\n",
            "Instructions for updating:\n",
            "Use `tf.config.list_physical_devices('GPU')` instead.\n",
            "True\n"
          ],
          "name": "stdout"
        }
      ]
    },
    {
      "cell_type": "code",
      "metadata": {
        "colab": {
          "base_uri": "https://localhost:8080/"
        },
        "id": "AkD0KV0tRj8n",
        "outputId": "1f89f231-40b4-4663-b600-d18f65a84f96"
      },
      "source": [
        "x.device.endswith(':GPU:0')"
      ],
      "execution_count": 8,
      "outputs": [
        {
          "output_type": "execute_result",
          "data": {
            "text/plain": [
              "True"
            ]
          },
          "metadata": {
            "tags": []
          },
          "execution_count": 8
        }
      ]
    },
    {
      "cell_type": "code",
      "metadata": {
        "colab": {
          "base_uri": "https://localhost:8080/",
          "height": 35
        },
        "id": "xZhw5STlRxX3",
        "outputId": "e0aced10-e140-48a3-dcba-52cf84f0baa5"
      },
      "source": [
        "x.device"
      ],
      "execution_count": 9,
      "outputs": [
        {
          "output_type": "execute_result",
          "data": {
            "application/vnd.google.colaboratory.intrinsic+json": {
              "type": "string"
            },
            "text/plain": [
              "'/job:localhost/replica:0/task:0/device:GPU:0'"
            ]
          },
          "metadata": {
            "tags": []
          },
          "execution_count": 9
        }
      ]
    },
    {
      "cell_type": "code",
      "metadata": {
        "colab": {
          "base_uri": "https://localhost:8080/"
        },
        "id": "VFI4IOrTT9k3",
        "outputId": "4d4e089d-12ca-4d93-d4d1-e0276b6f2fd5"
      },
      "source": [
        "import time\r\n",
        "\r\n",
        "def time_mul(x):\r\n",
        "    start = time.time()\r\n",
        "\r\n",
        "    for i in range(100):\r\n",
        "        tf.matmul(x,x)\r\n",
        "\r\n",
        "    result = time.time() - start\r\n",
        "    print(result)\r\n",
        "\r\n",
        "# ON CPU\r\n",
        "with tf.device('CPU:0'):\r\n",
        "    x = tf.random.uniform([1000, 1000])\r\n",
        "    assert x.device.endswith('CPU:0')\r\n",
        "    time_mul(x)\r\n",
        "\r\n",
        "# ON GPU\r\n",
        "if tf.test.is_gpu_available():\r\n",
        "    with tf.device('GPU:0'):\r\n",
        "        x = tf.random.uniform([1000, 1000])\r\n",
        "        assert x.device.endswith('GPU:0')\r\n",
        "        time_mul(x)"
      ],
      "execution_count": 10,
      "outputs": [
        {
          "output_type": "stream",
          "text": [
            "2.981656551361084\n",
            "1.4293291568756104\n"
          ],
          "name": "stdout"
        }
      ]
    },
    {
      "cell_type": "code",
      "metadata": {
        "id": "QYtZKXAHdyUu"
      },
      "source": [
        "layer = tf.keras.layers.Dense(100)"
      ],
      "execution_count": 11,
      "outputs": []
    },
    {
      "cell_type": "code",
      "metadata": {
        "id": "6NNiqHynr_Xx"
      },
      "source": [
        "layer1 = tf.keras.layers.Dense(10, input_shape=(None, 5))"
      ],
      "execution_count": 12,
      "outputs": []
    },
    {
      "cell_type": "code",
      "metadata": {
        "colab": {
          "base_uri": "https://localhost:8080/"
        },
        "id": "opvagdi-sdXL",
        "outputId": "dd9d0f8e-f961-4091-8870-2d0f9e2595b8"
      },
      "source": [
        "layer1(tf.zeros([10,5]))"
      ],
      "execution_count": 13,
      "outputs": [
        {
          "output_type": "execute_result",
          "data": {
            "text/plain": [
              "<tf.Tensor: shape=(10, 10), dtype=float32, numpy=\n",
              "array([[0., 0., 0., 0., 0., 0., 0., 0., 0., 0.],\n",
              "       [0., 0., 0., 0., 0., 0., 0., 0., 0., 0.],\n",
              "       [0., 0., 0., 0., 0., 0., 0., 0., 0., 0.],\n",
              "       [0., 0., 0., 0., 0., 0., 0., 0., 0., 0.],\n",
              "       [0., 0., 0., 0., 0., 0., 0., 0., 0., 0.],\n",
              "       [0., 0., 0., 0., 0., 0., 0., 0., 0., 0.],\n",
              "       [0., 0., 0., 0., 0., 0., 0., 0., 0., 0.],\n",
              "       [0., 0., 0., 0., 0., 0., 0., 0., 0., 0.],\n",
              "       [0., 0., 0., 0., 0., 0., 0., 0., 0., 0.],\n",
              "       [0., 0., 0., 0., 0., 0., 0., 0., 0., 0.]], dtype=float32)>"
            ]
          },
          "metadata": {
            "tags": []
          },
          "execution_count": 13
        }
      ]
    },
    {
      "cell_type": "code",
      "metadata": {
        "colab": {
          "base_uri": "https://localhost:8080/"
        },
        "id": "HgWlEqqasfm1",
        "outputId": "420c297f-77df-4515-f3f7-0eacbc7c06ac"
      },
      "source": [
        "layer1.variables"
      ],
      "execution_count": 14,
      "outputs": [
        {
          "output_type": "execute_result",
          "data": {
            "text/plain": [
              "[<tf.Variable 'dense_1/kernel:0' shape=(5, 10) dtype=float32, numpy=\n",
              " array([[-0.17408803, -0.09986854, -0.2953311 ,  0.23820466,  0.53822297,\n",
              "         -0.05619758,  0.41361254,  0.29477376,  0.00955433, -0.1534527 ],\n",
              "        [ 0.44852215,  0.15761554,  0.38537806, -0.28430238,  0.19891518,\n",
              "          0.12278503, -0.14534625, -0.3537402 , -0.31939253,  0.5657993 ],\n",
              "        [-0.6000447 ,  0.07587904,  0.5022448 ,  0.00851643, -0.33499107,\n",
              "          0.60952014, -0.08725792,  0.5120377 ,  0.6167646 ,  0.05064207],\n",
              "        [ 0.27519846,  0.00323021, -0.0963015 ,  0.12160826,  0.01130348,\n",
              "         -0.32471675, -0.20411137, -0.03770316,  0.5537006 ,  0.25912178],\n",
              "        [-0.59491324,  0.57183844,  0.28022158, -0.0865863 ,  0.2229535 ,\n",
              "          0.49933726, -0.2124916 , -0.45860696, -0.12325746,  0.23645335]],\n",
              "       dtype=float32)>,\n",
              " <tf.Variable 'dense_1/bias:0' shape=(10,) dtype=float32, numpy=array([0., 0., 0., 0., 0., 0., 0., 0., 0., 0.], dtype=float32)>]"
            ]
          },
          "metadata": {
            "tags": []
          },
          "execution_count": 14
        }
      ]
    },
    {
      "cell_type": "code",
      "metadata": {
        "colab": {
          "base_uri": "https://localhost:8080/"
        },
        "id": "k41WHX-otAPj",
        "outputId": "a6646b33-601f-45ed-a347-4c5a9fd62d9d"
      },
      "source": [
        "layer1.kernel, layer1.bias"
      ],
      "execution_count": 15,
      "outputs": [
        {
          "output_type": "execute_result",
          "data": {
            "text/plain": [
              "(<tf.Variable 'dense_1/kernel:0' shape=(5, 10) dtype=float32, numpy=\n",
              " array([[-0.17408803, -0.09986854, -0.2953311 ,  0.23820466,  0.53822297,\n",
              "         -0.05619758,  0.41361254,  0.29477376,  0.00955433, -0.1534527 ],\n",
              "        [ 0.44852215,  0.15761554,  0.38537806, -0.28430238,  0.19891518,\n",
              "          0.12278503, -0.14534625, -0.3537402 , -0.31939253,  0.5657993 ],\n",
              "        [-0.6000447 ,  0.07587904,  0.5022448 ,  0.00851643, -0.33499107,\n",
              "          0.60952014, -0.08725792,  0.5120377 ,  0.6167646 ,  0.05064207],\n",
              "        [ 0.27519846,  0.00323021, -0.0963015 ,  0.12160826,  0.01130348,\n",
              "         -0.32471675, -0.20411137, -0.03770316,  0.5537006 ,  0.25912178],\n",
              "        [-0.59491324,  0.57183844,  0.28022158, -0.0865863 ,  0.2229535 ,\n",
              "          0.49933726, -0.2124916 , -0.45860696, -0.12325746,  0.23645335]],\n",
              "       dtype=float32)>,\n",
              " <tf.Variable 'dense_1/bias:0' shape=(10,) dtype=float32, numpy=array([0., 0., 0., 0., 0., 0., 0., 0., 0., 0.], dtype=float32)>)"
            ]
          },
          "metadata": {
            "tags": []
          },
          "execution_count": 15
        }
      ]
    },
    {
      "cell_type": "code",
      "metadata": {
        "colab": {
          "base_uri": "https://localhost:8080/"
        },
        "id": "oA2scpvKtEd9",
        "outputId": "0adf3797-a815-4b30-ccf1-f4fd4d3baae3"
      },
      "source": [
        "class MyDenseLayers(tf.keras.layers.Layer):\r\n",
        "    def __init__(self, num_outputs):\r\n",
        "        super(MyDenseLayers, self).__init__()\r\n",
        "        self.num_outputs = num_outputs\r\n",
        "\r\n",
        "    def build(self, input_shape):\r\n",
        "        self.kernel = self.add_weight(\"kernel\",\r\n",
        "                                     shape=[int(input_shape[-1]), self.num_outputs])\r\n",
        "        \r\n",
        "    def call(self, input):\r\n",
        "        return tf.matmul(input, self.kernel)\r\n",
        "\r\n",
        "layer = MyDenseLayers(10)\r\n",
        "print(layer(tf.zeros([10,5])))\r\n",
        "print(layer.trainable_variables)"
      ],
      "execution_count": 16,
      "outputs": [
        {
          "output_type": "stream",
          "text": [
            "tf.Tensor(\n",
            "[[0. 0. 0. 0. 0. 0. 0. 0. 0. 0.]\n",
            " [0. 0. 0. 0. 0. 0. 0. 0. 0. 0.]\n",
            " [0. 0. 0. 0. 0. 0. 0. 0. 0. 0.]\n",
            " [0. 0. 0. 0. 0. 0. 0. 0. 0. 0.]\n",
            " [0. 0. 0. 0. 0. 0. 0. 0. 0. 0.]\n",
            " [0. 0. 0. 0. 0. 0. 0. 0. 0. 0.]\n",
            " [0. 0. 0. 0. 0. 0. 0. 0. 0. 0.]\n",
            " [0. 0. 0. 0. 0. 0. 0. 0. 0. 0.]\n",
            " [0. 0. 0. 0. 0. 0. 0. 0. 0. 0.]\n",
            " [0. 0. 0. 0. 0. 0. 0. 0. 0. 0.]], shape=(10, 10), dtype=float32)\n",
            "[<tf.Variable 'my_dense_layers/kernel:0' shape=(5, 10) dtype=float32, numpy=\n",
            "array([[-0.62272483,  0.29697108, -0.4457891 ,  0.61858433, -0.23507696,\n",
            "         0.11428493,  0.346076  , -0.437034  ,  0.40389568, -0.26198226],\n",
            "       [ 0.44185835,  0.35615796,  0.5217629 ,  0.27853256,  0.3567525 ,\n",
            "         0.24940556,  0.5157029 , -0.39999402, -0.38234535,  0.19947791],\n",
            "       [ 0.512896  , -0.25740144,  0.38509244, -0.01314521,  0.58289546,\n",
            "         0.23847318, -0.55891895, -0.20240426,  0.34692013, -0.1218251 ],\n",
            "       [ 0.36787218, -0.14462203, -0.06968331, -0.35505053,  0.04238367,\n",
            "         0.6088534 ,  0.51654047, -0.4284609 ,  0.0043596 , -0.03019053],\n",
            "       [-0.09145874,  0.23880416, -0.0412274 ,  0.34513628, -0.6141051 ,\n",
            "         0.26503575, -0.4839522 , -0.24712396, -0.4089572 ,  0.5302164 ]],\n",
            "      dtype=float32)>]\n"
          ],
          "name": "stdout"
        }
      ]
    },
    {
      "cell_type": "code",
      "metadata": {
        "colab": {
          "base_uri": "https://localhost:8080/"
        },
        "id": "16ICL1H6C-4k",
        "outputId": "df3405e6-7c88-4c2c-a7ea-f21384debca3"
      },
      "source": [
        "layer.kernel"
      ],
      "execution_count": 17,
      "outputs": [
        {
          "output_type": "execute_result",
          "data": {
            "text/plain": [
              "<tf.Variable 'my_dense_layers/kernel:0' shape=(5, 10) dtype=float32, numpy=\n",
              "array([[-0.62272483,  0.29697108, -0.4457891 ,  0.61858433, -0.23507696,\n",
              "         0.11428493,  0.346076  , -0.437034  ,  0.40389568, -0.26198226],\n",
              "       [ 0.44185835,  0.35615796,  0.5217629 ,  0.27853256,  0.3567525 ,\n",
              "         0.24940556,  0.5157029 , -0.39999402, -0.38234535,  0.19947791],\n",
              "       [ 0.512896  , -0.25740144,  0.38509244, -0.01314521,  0.58289546,\n",
              "         0.23847318, -0.55891895, -0.20240426,  0.34692013, -0.1218251 ],\n",
              "       [ 0.36787218, -0.14462203, -0.06968331, -0.35505053,  0.04238367,\n",
              "         0.6088534 ,  0.51654047, -0.4284609 ,  0.0043596 , -0.03019053],\n",
              "       [-0.09145874,  0.23880416, -0.0412274 ,  0.34513628, -0.6141051 ,\n",
              "         0.26503575, -0.4839522 , -0.24712396, -0.4089572 ,  0.5302164 ]],\n",
              "      dtype=float32)>"
            ]
          },
          "metadata": {
            "tags": []
          },
          "execution_count": 17
        }
      ]
    },
    {
      "cell_type": "code",
      "metadata": {
        "colab": {
          "base_uri": "https://localhost:8080/"
        },
        "id": "twHNoNR5UMq8",
        "outputId": "219ff7b5-49e9-4742-b01e-5723434097b8"
      },
      "source": [
        "layer.variables"
      ],
      "execution_count": 18,
      "outputs": [
        {
          "output_type": "execute_result",
          "data": {
            "text/plain": [
              "[<tf.Variable 'my_dense_layers/kernel:0' shape=(5, 10) dtype=float32, numpy=\n",
              " array([[-0.62272483,  0.29697108, -0.4457891 ,  0.61858433, -0.23507696,\n",
              "          0.11428493,  0.346076  , -0.437034  ,  0.40389568, -0.26198226],\n",
              "        [ 0.44185835,  0.35615796,  0.5217629 ,  0.27853256,  0.3567525 ,\n",
              "          0.24940556,  0.5157029 , -0.39999402, -0.38234535,  0.19947791],\n",
              "        [ 0.512896  , -0.25740144,  0.38509244, -0.01314521,  0.58289546,\n",
              "          0.23847318, -0.55891895, -0.20240426,  0.34692013, -0.1218251 ],\n",
              "        [ 0.36787218, -0.14462203, -0.06968331, -0.35505053,  0.04238367,\n",
              "          0.6088534 ,  0.51654047, -0.4284609 ,  0.0043596 , -0.03019053],\n",
              "        [-0.09145874,  0.23880416, -0.0412274 ,  0.34513628, -0.6141051 ,\n",
              "          0.26503575, -0.4839522 , -0.24712396, -0.4089572 ,  0.5302164 ]],\n",
              "       dtype=float32)>]"
            ]
          },
          "metadata": {
            "tags": []
          },
          "execution_count": 18
        }
      ]
    },
    {
      "cell_type": "markdown",
      "metadata": {
        "id": "uPWyPDdUUyWk"
      },
      "source": [
        "## GRADIENT TAPE"
      ]
    },
    {
      "cell_type": "code",
      "metadata": {
        "colab": {
          "base_uri": "https://localhost:8080/"
        },
        "id": "zQ0EsWBmUkg_",
        "outputId": "3aa82942-1821-4d28-cc2d-fcc60106350a"
      },
      "source": [
        "x = tf.Variable(2.0)\r\n",
        "with tf.GradientTape() as tape:\r\n",
        "    y = x ** 2\r\n",
        "    z = y ** 2\r\n",
        "\r\n",
        "dz_dx, dz_dy = tape.gradient(z, [x,y])\r\n",
        "print(dz_dx)\r\n",
        "print(dz_dy)"
      ],
      "execution_count": 19,
      "outputs": [
        {
          "output_type": "stream",
          "text": [
            "tf.Tensor(32.0, shape=(), dtype=float32)\n",
            "tf.Tensor(8.0, shape=(), dtype=float32)\n"
          ],
          "name": "stdout"
        }
      ]
    },
    {
      "cell_type": "code",
      "metadata": {
        "colab": {
          "base_uri": "https://localhost:8080/"
        },
        "id": "WcuBXAKCVlsc",
        "outputId": "d8d91e2a-67c5-4c4e-f727-6af2d32b8d9e"
      },
      "source": [
        "print(dz_dx.numpy())\r\n",
        "print(dz_dy.numpy())"
      ],
      "execution_count": 20,
      "outputs": [
        {
          "output_type": "stream",
          "text": [
            "32.0\n",
            "8.0\n"
          ],
          "name": "stdout"
        }
      ]
    },
    {
      "cell_type": "code",
      "metadata": {
        "colab": {
          "base_uri": "https://localhost:8080/"
        },
        "id": "h-I8-WlsVp4q",
        "outputId": "c57fd37a-af0e-4364-b5d6-740d28ac55ca"
      },
      "source": [
        "x = tf.constant(2.0)\r\n",
        "with tf.GradientTape() as tape:\r\n",
        "    tape.watch(x) # since 'x' is not a variable, we must explicitly \"watch\" it\r\n",
        "    y = x ** 2\r\n",
        "\r\n",
        "dy_dx = tape.gradient(y, x)\r\n",
        "print(dy_dx.numpy())"
      ],
      "execution_count": 21,
      "outputs": [
        {
          "output_type": "stream",
          "text": [
            "4.0\n"
          ],
          "name": "stdout"
        }
      ]
    },
    {
      "cell_type": "code",
      "metadata": {
        "id": "J46lmY_IXQ30"
      },
      "source": [
        "x = tf.constant(3.0)\r\n",
        "with tf.GradientTape(persistent=True) as t:\r\n",
        "    t.watch(x) # since 'x' is not a variable, we must explicitly \"watch\" it\r\n",
        "    y = x * x\r\n",
        "    z = y * y\r\n",
        "\r\n",
        "dz_dx = t.gradient(z,x)\r\n",
        "dy_dx = t.gradient(y,x)\r\n",
        "dz_dy = t.gradient(z,y)"
      ],
      "execution_count": 22,
      "outputs": []
    },
    {
      "cell_type": "code",
      "metadata": {
        "colab": {
          "base_uri": "https://localhost:8080/"
        },
        "id": "e2fz2QRVY4VJ",
        "outputId": "beea77fb-8ecb-49de-a966-2285a30d503d"
      },
      "source": [
        "print(dz_dx)\r\n",
        "print(dz_dy)\r\n",
        "print(dy_dx)\r\n",
        "\r\n",
        "del t"
      ],
      "execution_count": 23,
      "outputs": [
        {
          "output_type": "stream",
          "text": [
            "tf.Tensor(108.0, shape=(), dtype=float32)\n",
            "tf.Tensor(18.0, shape=(), dtype=float32)\n",
            "tf.Tensor(6.0, shape=(), dtype=float32)\n"
          ],
          "name": "stdout"
        }
      ]
    },
    {
      "cell_type": "code",
      "metadata": {
        "id": "VUXnlgCTZErO"
      },
      "source": [
        "def f(x, y):\r\n",
        "    output = 1.0\r\n",
        "    for i in range(y):\r\n",
        "        if i>1 and i<5:\r\n",
        "            output = tf.multiply(output, x)\r\n",
        "    return output\r\n",
        "\r\n",
        "def grad(x, y):\r\n",
        "    with tf.GradientTape() as tape:\r\n",
        "        tape.watch(x)\r\n",
        "        out = f(x,y)\r\n",
        "    return tape.gradient(out, x)\r\n",
        "\r\n",
        "x = tf.convert_to_tensor(2.0)"
      ],
      "execution_count": 24,
      "outputs": []
    },
    {
      "cell_type": "code",
      "metadata": {
        "colab": {
          "base_uri": "https://localhost:8080/"
        },
        "id": "DXtGA85kdOWA",
        "outputId": "25afb987-c313-4257-fdd7-e7d27d2b0012"
      },
      "source": [
        "print(grad(x,6))\r\n",
        "print(grad(x,5))\r\n",
        "print(grad(x,4))"
      ],
      "execution_count": 25,
      "outputs": [
        {
          "output_type": "stream",
          "text": [
            "tf.Tensor(12.0, shape=(), dtype=float32)\n",
            "tf.Tensor(12.0, shape=(), dtype=float32)\n",
            "tf.Tensor(4.0, shape=(), dtype=float32)\n"
          ],
          "name": "stdout"
        }
      ]
    },
    {
      "cell_type": "code",
      "metadata": {
        "id": "OUviZT1MdXQp"
      },
      "source": [
        "assert grad(x,6).numpy() == 12.0"
      ],
      "execution_count": 26,
      "outputs": []
    },
    {
      "cell_type": "code",
      "metadata": {
        "colab": {
          "base_uri": "https://localhost:8080/"
        },
        "id": "oxxWkCTsdmTl",
        "outputId": "27c1eb3f-ae62-4c5a-9ef5-8514a41e50af"
      },
      "source": [
        "x = tf.Variable(3.0)\r\n",
        "with tf.GradientTape() as t:\r\n",
        "    with tf.GradientTape() as t2:\r\n",
        "        y = x * x * x\r\n",
        "        dy_dx = t2.gradient(y,x)\r\n",
        "    d2y_dx2 = t.gradient(dy_dx, x)\r\n",
        "print(dy_dx)\r\n",
        "print(d2y_dx2)"
      ],
      "execution_count": 27,
      "outputs": [
        {
          "output_type": "stream",
          "text": [
            "tf.Tensor(27.0, shape=(), dtype=float32)\n",
            "tf.Tensor(18.0, shape=(), dtype=float32)\n"
          ],
          "name": "stdout"
        }
      ]
    },
    {
      "cell_type": "code",
      "metadata": {
        "colab": {
          "base_uri": "https://localhost:8080/"
        },
        "id": "DSDH-8IHfbiv",
        "outputId": "0a95f2cf-33ea-4b71-a0f0-c6ad048a0655"
      },
      "source": [
        "v = tf.Variable(3.0)\r\n",
        "print(v)"
      ],
      "execution_count": 28,
      "outputs": [
        {
          "output_type": "stream",
          "text": [
            "<tf.Variable 'Variable:0' shape=() dtype=float32, numpy=3.0>\n"
          ],
          "name": "stdout"
        }
      ]
    },
    {
      "cell_type": "code",
      "metadata": {
        "id": "7e5kIjqTf27R"
      },
      "source": [
        "assert v.numpy() == 3.0"
      ],
      "execution_count": 29,
      "outputs": []
    },
    {
      "cell_type": "code",
      "metadata": {
        "id": "9yMYxDg3gDsD"
      },
      "source": [
        "v.assign(5.0)\r\n",
        "assert v.numpy() == 5.0"
      ],
      "execution_count": 30,
      "outputs": []
    },
    {
      "cell_type": "code",
      "metadata": {
        "colab": {
          "base_uri": "https://localhost:8080/"
        },
        "id": "cUVhZl4ZgKP5",
        "outputId": "df8e798f-fa52-481f-d54e-ce50520c5193"
      },
      "source": [
        "v.assign(tf.square(v))"
      ],
      "execution_count": 31,
      "outputs": [
        {
          "output_type": "execute_result",
          "data": {
            "text/plain": [
              "<tf.Variable 'UnreadVariable' shape=() dtype=float32, numpy=25.0>"
            ]
          },
          "metadata": {
            "tags": []
          },
          "execution_count": 31
        }
      ]
    },
    {
      "cell_type": "code",
      "metadata": {
        "colab": {
          "base_uri": "https://localhost:8080/"
        },
        "id": "j0AHDT--gShM",
        "outputId": "2cb17de9-1635-45e6-9613-d7ede6a11007"
      },
      "source": [
        "print(v)"
      ],
      "execution_count": 33,
      "outputs": [
        {
          "output_type": "stream",
          "text": [
            "<tf.Variable 'Variable:0' shape=() dtype=float32, numpy=25.0>\n"
          ],
          "name": "stdout"
        }
      ]
    },
    {
      "cell_type": "code",
      "metadata": {
        "id": "Tv975ahstDPl"
      },
      "source": [
        "assert v.numpy() == 25.0"
      ],
      "execution_count": 34,
      "outputs": []
    },
    {
      "cell_type": "code",
      "metadata": {
        "colab": {
          "base_uri": "https://localhost:8080/"
        },
        "id": "qrS__c6BtIPZ",
        "outputId": "31546f6d-91c6-42ef-fc64-24e6cc46547d"
      },
      "source": [
        "class Model(object):\r\n",
        "    def __init__(self):\r\n",
        "        self.W = tf.Variable(5.0)\r\n",
        "        self.b = tf.Variable(0.0)\r\n",
        "\r\n",
        "    def __call__(self,x):\r\n",
        "        return self.W*x + self.b\r\n",
        "\r\n",
        "model = Model()\r\n",
        "print(model(3.0).numpy())"
      ],
      "execution_count": 35,
      "outputs": [
        {
          "output_type": "stream",
          "text": [
            "15.0\n"
          ],
          "name": "stdout"
        }
      ]
    },
    {
      "cell_type": "code",
      "metadata": {
        "id": "4gt2Qt8ouEeF"
      },
      "source": [
        "assert model(3.0).numpy() == 15.0"
      ],
      "execution_count": 36,
      "outputs": []
    },
    {
      "cell_type": "code",
      "metadata": {
        "id": "iGrFgbJCuJPC"
      },
      "source": [
        "def loss(predicted, target):\r\n",
        "    return tf.reduce_mean(tf.square(predicted-target))"
      ],
      "execution_count": 37,
      "outputs": []
    },
    {
      "cell_type": "code",
      "metadata": {
        "id": "ljYc0dIjuWXO"
      },
      "source": [
        "W = 3.0\r\n",
        "b = 2.0\r\n",
        "num = 1000\r\n",
        "\r\n",
        "inputs = tf.random.normal(shape=[num])\r\n",
        "noise = tf.random.normal(shape=[num])\r\n",
        "outputs = inputs * W + b + noise"
      ],
      "execution_count": 38,
      "outputs": []
    },
    {
      "cell_type": "code",
      "metadata": {
        "colab": {
          "base_uri": "https://localhost:8080/",
          "height": 282
        },
        "id": "hHkaPvLEuzLr",
        "outputId": "0c40a075-1aef-4e61-ef23-b3352bf08618"
      },
      "source": [
        "import matplotlib.pyplot as plt\r\n",
        "plt.scatter(inputs, outputs, c='b')\r\n",
        "plt.scatter(inputs, model(inputs), c='r')\r\n",
        "plt.show()\r\n",
        "\r\n",
        "print('Loss: %1.6f' % loss(model(inputs), outputs).numpy())"
      ],
      "execution_count": 39,
      "outputs": [
        {
          "output_type": "display_data",
          "data": {
            "image/png": "[encoded data removed]",
            "text/plain": [
              "<Figure size 432x288 with 1 Axes>"
            ]
          },
          "metadata": {
            "tags": [],
            "needs_background": "light"
          }
        },
        {
          "output_type": "stream",
          "text": [
            "Loss: 8.522434\n"
          ],
          "name": "stdout"
        }
      ]
    },
    {
      "cell_type": "code",
      "metadata": {
        "id": "WGnhndUBvQVj"
      },
      "source": [
        "def train(model, inputs, outputs, learning_rate):\r\n",
        "    with tf.GradientTape() as tape:\r\n",
        "        current_loss = loss(model(inputs), outputs)\r\n",
        "    dW, db = tape.gradient(current_loss, [model.W, model.b])\r\n",
        "    model.W.assign_sub(learning_rate * dW)\r\n",
        "    model.b.assign_sub(learning_rate * db)"
      ],
      "execution_count": 40,
      "outputs": []
    },
    {
      "cell_type": "code",
      "metadata": {
        "colab": {
          "base_uri": "https://localhost:8080/",
          "height": 442
        },
        "id": "gWYnxcVOv49P",
        "outputId": "19966484-6186-424f-ae6b-3d44a66a03f7"
      },
      "source": [
        "model = Model()\r\n",
        "\r\n",
        "Ws, bs = [], []\r\n",
        "\r\n",
        "epochs = range(10)\r\n",
        "\r\n",
        "for epoch in epochs:\r\n",
        "    Ws.append(model.W.numpy())\r\n",
        "    bs.append(model.b.numpy())\r\n",
        "    current_loss = loss(model(inputs), outputs)\r\n",
        "\r\n",
        "    train(model, inputs, outputs, learning_rate=0.1)\r\n",
        "    print('Epoch %2d: W=%1.2f b=%1.2f loss=%2.5f' %\r\n",
        "          (epoch, Ws[-1], bs[-1], current_loss))\r\n",
        "    \r\n",
        "plt.plot(epochs, Ws, 'r',\r\n",
        "         epochs, bs, 'r')\r\n",
        "plt.plot([W]*len(epochs), 'r--',\r\n",
        "         [b]*len(epochs), 'b--')\r\n",
        "plt.legend(['W', 'b', 'True W', 'True b'])\r\n",
        "plt.show()"
      ],
      "execution_count": 42,
      "outputs": [
        {
          "output_type": "stream",
          "text": [
            "Epoch  0: W=5.00 b=0.00 loss=8.52243\n",
            "Epoch  1: W=4.64 b=0.39 loss=5.95948\n",
            "Epoch  2: W=4.34 b=0.71 loss=4.26253\n",
            "Epoch  3: W=4.10 b=0.96 loss=3.13871\n",
            "Epoch  4: W=3.90 b=1.17 loss=2.39427\n",
            "Epoch  5: W=3.74 b=1.33 loss=1.90104\n",
            "Epoch  6: W=3.60 b=1.47 loss=1.57418\n",
            "Epoch  7: W=3.49 b=1.58 loss=1.35753\n",
            "Epoch  8: W=3.40 b=1.66 loss=1.21390\n",
            "Epoch  9: W=3.33 b=1.74 loss=1.11866\n"
          ],
          "name": "stdout"
        },
        {
          "output_type": "display_data",
          "data": {
            "image/png": "[encoded data removed]",
            "text/plain": [
              "<Figure size 432x288 with 1 Axes>"
            ]
          },
          "metadata": {
            "tags": [],
            "needs_background": "light"
          }
        }
      ]
    },
    {
      "cell_type": "code",
      "metadata": {
        "id": "kaz_Y0s0yI-R"
      },
      "source": [
        "from tensorflow import keras"
      ],
      "execution_count": 43,
      "outputs": []
    },
    {
      "cell_type": "code",
      "metadata": {
        "id": "52KmF_xfy2mC"
      },
      "source": [
        "model = tf.keras.Sequential([\r\n",
        "        tf.keras.layers.Dense(64, activation='relu', input_shape=(32,)),\r\n",
        "        tf.keras.layers.Dense(64, bias_initializer=tf.keras.initializers.Constant(2.0), bias_regularizer=tf.keras.regularizers.l2(0.01), activation=tf.keras.activations.relu),\r\n",
        "        tf.keras.layers.Dense(128,kernel_initializer='orthogonal', kernel_regularizer=tf.keras.regularizers.l1(0.01)),\r\n",
        "        tf.keras.layers.Dense(10, activation='softmax')\r\n",
        "])\r\n",
        "model.compile(optimizer='adam', metrics=['accuracy'], loss='categorical_crossentropy')"
      ],
      "execution_count": 48,
      "outputs": []
    },
    {
      "cell_type": "code",
      "metadata": {
        "colab": {
          "base_uri": "https://localhost:8080/"
        },
        "id": "1jeM40wZ1dww",
        "outputId": "78e92b27-e6d3-42f7-f0ab-a981ba2e7eab"
      },
      "source": [
        "data = np.random.random((1000,32))\r\n",
        "print('Data shape:', data.shape)\r\n",
        "print(data)\r\n",
        "print()\r\n",
        "\r\n",
        "labels = np.random.random((1000,10))\r\n",
        "print('Labels shape: ', labels.shape)\r\n",
        "print(labels)\r\n",
        "print()"
      ],
      "execution_count": 49,
      "outputs": [
        {
          "output_type": "stream",
          "text": [
            "Data shape: (1000, 32)\n",
            "[[0.97954465 0.18302587 0.84226344 ... 0.86850893 0.20626747 0.89494828]\n",
            " [0.43280735 0.73770073 0.27910187 ... 0.87665732 0.30208203 0.22368946]\n",
            " [0.81794942 0.3990995  0.0093384  ... 0.02957062 0.64931062 0.43156276]\n",
            " ...\n",
            " [0.03920569 0.70401476 0.75534263 ... 0.15885504 0.11648997 0.92837774]\n",
            " [0.9545672  0.031446   0.43361966 ... 0.41616207 0.94686034 0.34282461]\n",
            " [0.35822306 0.19707344 0.56004384 ... 0.56408308 0.07472525 0.82350524]]\n",
            "\n",
            "Labels shape:  (1000, 10)\n",
            "[[0.0390684  0.42187394 0.34374849 ... 0.27354736 0.97785194 0.1562255 ]\n",
            " [0.23882722 0.14178454 0.69682606 ... 0.00501256 0.96540568 0.68259575]\n",
            " [0.88198011 0.88342538 0.39664028 ... 0.02738053 0.62319968 0.24966241]\n",
            " ...\n",
            " [0.60852563 0.52975382 0.39051954 ... 0.58788028 0.21045514 0.47548523]\n",
            " [0.60779037 0.84527735 0.68774207 ... 0.50403993 0.15632155 0.68025155]\n",
            " [0.63273588 0.83383532 0.63927639 ... 0.35606014 0.71477337 0.21674715]]\n",
            "\n"
          ],
          "name": "stdout"
        }
      ]
    },
    {
      "cell_type": "code",
      "metadata": {
        "colab": {
          "base_uri": "https://localhost:8080/"
        },
        "id": "TvobAxI72PlH",
        "outputId": "afbccc65-061b-43f0-b67f-2b9352d1ba39"
      },
      "source": [
        "model.fit(data, labels, epochs=10, batch_size=32)"
      ],
      "execution_count": 50,
      "outputs": [
        {
          "output_type": "stream",
          "text": [
            "Epoch 1/10\n",
            "32/32 [==============================] - 0s 2ms/step - loss: 24.9986 - accuracy: 0.0953\n",
            "Epoch 2/10\n",
            "32/32 [==============================] - 0s 2ms/step - loss: 47.8620 - accuracy: 0.0975\n",
            "Epoch 3/10\n",
            "32/32 [==============================] - 0s 2ms/step - loss: 136.8667 - accuracy: 0.1177\n",
            "Epoch 4/10\n",
            "32/32 [==============================] - 0s 2ms/step - loss: 253.2274 - accuracy: 0.1153\n",
            "Epoch 5/10\n",
            "32/32 [==============================] - 0s 3ms/step - loss: 278.2187 - accuracy: 0.1040\n",
            "Epoch 6/10\n",
            "32/32 [==============================] - 0s 2ms/step - loss: 820.0226 - accuracy: 0.1076\n",
            "Epoch 7/10\n",
            "32/32 [==============================] - 0s 2ms/step - loss: 1858.4337 - accuracy: 0.1032\n",
            "Epoch 8/10\n",
            "32/32 [==============================] - 0s 2ms/step - loss: 3537.5663 - accuracy: 0.0939\n",
            "Epoch 9/10\n",
            "32/32 [==============================] - 0s 3ms/step - loss: 4240.5401 - accuracy: 0.1142\n",
            "Epoch 10/10\n",
            "32/32 [==============================] - 0s 2ms/step - loss: 8401.6007 - accuracy: 0.0969\n"
          ],
          "name": "stdout"
        },
        {
          "output_type": "execute_result",
          "data": {
            "text/plain": [
              "<tensorflow.python.keras.callbacks.History at 0x7fd21e11a748>"
            ]
          },
          "metadata": {
            "tags": []
          },
          "execution_count": 50
        }
      ]
    },
    {
      "cell_type": "code",
      "metadata": {
        "colab": {
          "base_uri": "https://localhost:8080/"
        },
        "id": "Zp9ySf1q2Zdi",
        "outputId": "815c96e8-6f97-461d-87c6-f02a7329c977"
      },
      "source": [
        "val_data = np.random.random((100,32))\r\n",
        "val_labels = np.random.random((100,10))\r\n",
        "\r\n",
        "model.fit(data, labels, epochs=10, batch_size=32,\r\n",
        "          validation_data=(val_data, val_labels))"
      ],
      "execution_count": 51,
      "outputs": [
        {
          "output_type": "stream",
          "text": [
            "Epoch 1/10\n",
            "32/32 [==============================] - 0s 13ms/step - loss: 11814.5312 - accuracy: 0.1000 - val_loss: 13747.5488 - val_accuracy: 0.1000\n",
            "Epoch 2/10\n",
            "32/32 [==============================] - 0s 3ms/step - loss: 13629.3379 - accuracy: 0.0960 - val_loss: 13913.0088 - val_accuracy: 0.0900\n",
            "Epoch 3/10\n",
            "32/32 [==============================] - 0s 3ms/step - loss: 18813.5645 - accuracy: 0.1100 - val_loss: 26283.7168 - val_accuracy: 0.0500\n",
            "Epoch 4/10\n",
            "32/32 [==============================] - 0s 3ms/step - loss: 32925.1875 - accuracy: 0.0880 - val_loss: 27630.1172 - val_accuracy: 0.0500\n",
            "Epoch 5/10\n",
            "32/32 [==============================] - 0s 3ms/step - loss: 30097.1465 - accuracy: 0.0960 - val_loss: 37599.8633 - val_accuracy: 0.0900\n",
            "Epoch 6/10\n",
            "32/32 [==============================] - 0s 3ms/step - loss: 50333.9141 - accuracy: 0.0870 - val_loss: 80697.7031 - val_accuracy: 0.0500\n",
            "Epoch 7/10\n",
            "32/32 [==============================] - 0s 4ms/step - loss: 69104.8125 - accuracy: 0.1070 - val_loss: 71617.3672 - val_accuracy: 0.0900\n",
            "Epoch 8/10\n",
            "32/32 [==============================] - 0s 3ms/step - loss: 67383.4297 - accuracy: 0.0890 - val_loss: 46325.1953 - val_accuracy: 0.1000\n",
            "Epoch 9/10\n",
            "32/32 [==============================] - 0s 3ms/step - loss: 80488.0000 - accuracy: 0.0980 - val_loss: 68785.3828 - val_accuracy: 0.0900\n",
            "Epoch 10/10\n",
            "32/32 [==============================] - 0s 4ms/step - loss: 101238.2109 - accuracy: 0.0900 - val_loss: 87559.1562 - val_accuracy: 0.1400\n"
          ],
          "name": "stdout"
        },
        {
          "output_type": "execute_result",
          "data": {
            "text/plain": [
              "<tensorflow.python.keras.callbacks.History at 0x7fd21bf74208>"
            ]
          },
          "metadata": {
            "tags": []
          },
          "execution_count": 51
        }
      ]
    },
    {
      "cell_type": "code",
      "metadata": {
        "id": "vvAUfNfE23By"
      },
      "source": [
        ""
      ],
      "execution_count": null,
      "outputs": []
    }
  ]
}