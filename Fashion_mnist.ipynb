{
  "nbformat": 4,
  "nbformat_minor": 0,
  "metadata": {
    "colab": {
      "name": "Fashion_mnist",
      "provenance": [],
      "authorship_tag": "ABX9TyMOX35PJUP4TPsYEWNA85po",
      "include_colab_link": true
    },
    "kernelspec": {
      "name": "python3",
      "display_name": "Python 3"
    }
  },
  "cells": [
    {
      "cell_type": "markdown",
      "metadata": {
        "id": "view-in-github",
        "colab_type": "text"
      },
      "source": [
        "<a href=\"https://colab.research.google.com/github/devangi2000/TensorFlow01/blob/master/Fashion_mnist.ipynb\" target=\"_parent\"><img src=\"https://colab.research.google.com/assets/colab-badge.svg\" alt=\"Open In Colab\"/></a>"
      ]
    },
    {
      "cell_type": "code",
      "metadata": {
        "id": "rSrbv3BfqkFv",
        "colab_type": "code",
        "outputId": "acc54e89-8607-4c74-ded9-c612f2d3f92f",
        "colab": {
          "base_uri": "https://localhost:8080/",
          "height": 714
        }
      },
      "source": [
        "import tensorflow as tf\n",
        "import numpy as np\n",
        "mnist = tf.keras.datasets.fashion_mnist\n",
        "\n",
        "(X_train, y_train), (X_test, y_test) = mnist.load_data()\n",
        "\n",
        "X_train = X_train/255.0\n",
        "X_test = X_test/255.0\n",
        "\n",
        "model = tf.keras.models.Sequential([\n",
        "        tf.keras.layers.Flatten(),\n",
        "        tf.keras.layers.Dense(128, activation=tf.nn.relu),\n",
        "        tf.keras.layers.Dense(10, activation=tf.nn.softmax)\n",
        "])\n",
        "\n",
        "model.compile(optimizer='adam', loss='sparse_categorical_crossentropy', metrics=['accuracy'])\n",
        "model.fit(X_train, y_train, epochs=20)\n",
        "\n",
        "test_loss = model.evaluate(X_test, y_test)"
      ],
      "execution_count": 0,
      "outputs": [
        {
          "output_type": "stream",
          "text": [
            "Epoch 1/20\n",
            "1875/1875 [==============================] - 3s 2ms/step - loss: 0.5051 - accuracy: 0.8232\n",
            "Epoch 2/20\n",
            "1875/1875 [==============================] - 3s 2ms/step - loss: 0.3757 - accuracy: 0.8636\n",
            "Epoch 3/20\n",
            "1875/1875 [==============================] - 3s 2ms/step - loss: 0.3376 - accuracy: 0.8752\n",
            "Epoch 4/20\n",
            "1875/1875 [==============================] - 3s 2ms/step - loss: 0.3135 - accuracy: 0.8842\n",
            "Epoch 5/20\n",
            "1875/1875 [==============================] - 3s 2ms/step - loss: 0.2947 - accuracy: 0.8916\n",
            "Epoch 6/20\n",
            "1875/1875 [==============================] - 3s 2ms/step - loss: 0.2803 - accuracy: 0.8966\n",
            "Epoch 7/20\n",
            "1875/1875 [==============================] - 3s 2ms/step - loss: 0.2679 - accuracy: 0.9000\n",
            "Epoch 8/20\n",
            "1875/1875 [==============================] - 3s 2ms/step - loss: 0.2568 - accuracy: 0.9041\n",
            "Epoch 9/20\n",
            "1875/1875 [==============================] - 3s 2ms/step - loss: 0.2474 - accuracy: 0.9086\n",
            "Epoch 10/20\n",
            "1875/1875 [==============================] - 3s 2ms/step - loss: 0.2381 - accuracy: 0.9102\n",
            "Epoch 11/20\n",
            "1875/1875 [==============================] - 3s 2ms/step - loss: 0.2306 - accuracy: 0.9135\n",
            "Epoch 12/20\n",
            "1875/1875 [==============================] - 3s 2ms/step - loss: 0.2230 - accuracy: 0.9159\n",
            "Epoch 13/20\n",
            "1875/1875 [==============================] - 3s 2ms/step - loss: 0.2173 - accuracy: 0.9180\n",
            "Epoch 14/20\n",
            "1875/1875 [==============================] - 3s 2ms/step - loss: 0.2103 - accuracy: 0.9215\n",
            "Epoch 15/20\n",
            "1875/1875 [==============================] - 3s 2ms/step - loss: 0.2055 - accuracy: 0.9233\n",
            "Epoch 16/20\n",
            "1875/1875 [==============================] - 3s 2ms/step - loss: 0.1977 - accuracy: 0.9252\n",
            "Epoch 17/20\n",
            "1875/1875 [==============================] - 3s 2ms/step - loss: 0.1922 - accuracy: 0.9268\n",
            "Epoch 18/20\n",
            "1875/1875 [==============================] - 3s 2ms/step - loss: 0.1891 - accuracy: 0.9289\n",
            "Epoch 19/20\n",
            "1875/1875 [==============================] - 3s 2ms/step - loss: 0.1833 - accuracy: 0.9298\n",
            "Epoch 20/20\n",
            "1875/1875 [==============================] - 3s 2ms/step - loss: 0.1786 - accuracy: 0.9327\n",
            "313/313 [==============================] - 0s 1ms/step - loss: 0.3834 - accuracy: 0.8836\n"
          ],
          "name": "stdout"
        }
      ]
    },
    {
      "cell_type": "code",
      "metadata": {
        "id": "mvWGoOdjq6me",
        "colab_type": "code",
        "outputId": "2d05c271-a42f-4587-aa37-9e8d220c80c7",
        "colab": {
          "base_uri": "https://localhost:8080/",
          "height": 578
        }
      },
      "source": [
        "import tensorflow as tf\n",
        "\n",
        "mnist = tf.keras.datasets.fashion_mnist\n",
        "(X_train, y_train), (X_test, y_test) = mnist.load_data()\n",
        "\n",
        "X_train = X_train.reshape(60000, 28, 28, 1)\n",
        "X_train = X_train/255.0\n",
        "\n",
        "X_test = X_test.reshape(10000, 28, 28, 1)\n",
        "X_test = X_test/255.0\n",
        "\n",
        "model = tf.keras.models.Sequential([\n",
        "            tf.keras.layers.Conv2D(64, (3,3), activation='relu', input_shape=(28,28,1)),\n",
        "            tf.keras.layers.MaxPooling2D(pool_size=(2,2)),\n",
        "            tf.keras.layers.Conv2D(64, (3,3), activation='relu'),\n",
        "            tf.keras.layers.MaxPooling2D(pool_size=(2,2)),\n",
        "            tf.keras.layers.Flatten(),\n",
        "            tf.keras.layers.Dense(128, activation='relu'),\n",
        "            tf.keras.layers.Dense(10, activation='softmax')\n",
        "])\n",
        "\n",
        "model.compile(optimizer='adam', loss='sparse_categorical_crossentropy', metrics=['accuracy'])\n",
        "model.summary()\n",
        "model.fit(X_test, y_test, epochs=5)\n",
        "test = model.evaluate(X_test, y_test)"
      ],
      "execution_count": 0,
      "outputs": [
        {
          "output_type": "stream",
          "text": [
            "Model: \"sequential_8\"\n",
            "_________________________________________________________________\n",
            "Layer (type)                 Output Shape              Param #   \n",
            "=================================================================\n",
            "conv2d_2 (Conv2D)            (None, 26, 26, 64)        640       \n",
            "_________________________________________________________________\n",
            "max_pooling2d_2 (MaxPooling2 (None, 13, 13, 64)        0         \n",
            "_________________________________________________________________\n",
            "conv2d_3 (Conv2D)            (None, 11, 11, 64)        36928     \n",
            "_________________________________________________________________\n",
            "max_pooling2d_3 (MaxPooling2 (None, 5, 5, 64)          0         \n",
            "_________________________________________________________________\n",
            "flatten_8 (Flatten)          (None, 1600)              0         \n",
            "_________________________________________________________________\n",
            "dense_16 (Dense)             (None, 128)               204928    \n",
            "_________________________________________________________________\n",
            "dense_17 (Dense)             (None, 10)                1290      \n",
            "=================================================================\n",
            "Total params: 243,786\n",
            "Trainable params: 243,786\n",
            "Non-trainable params: 0\n",
            "_________________________________________________________________\n",
            "Epoch 1/5\n",
            "313/313 [==============================] - 11s 35ms/step - loss: 0.7445 - accuracy: 0.7257\n",
            "Epoch 2/5\n",
            "313/313 [==============================] - 11s 34ms/step - loss: 0.4699 - accuracy: 0.8289\n",
            "Epoch 3/5\n",
            "313/313 [==============================] - 11s 35ms/step - loss: 0.4004 - accuracy: 0.8535\n",
            "Epoch 4/5\n",
            "313/313 [==============================] - 11s 35ms/step - loss: 0.3618 - accuracy: 0.8692\n",
            "Epoch 5/5\n",
            "313/313 [==============================] - 11s 34ms/step - loss: 0.3207 - accuracy: 0.8822\n",
            "313/313 [==============================] - 3s 9ms/step - loss: 0.3049 - accuracy: 0.8863\n"
          ],
          "name": "stdout"
        }
      ]
    },
    {
      "cell_type": "code",
      "metadata": {
        "id": "zVeyXUPbx3TB",
        "colab_type": "code",
        "colab": {
          "base_uri": "https://localhost:8080/",
          "height": 272
        },
        "outputId": "45309eae-1978-4fdc-887c-5f1e0ddb0bcc"
      },
      "source": [
        "import tensorflow as tf\n",
        "def train_mnist_conv():\n",
        "    \n",
        "    class StopTraining(tf.keras.callbacks.Callback):\n",
        "        def on_epoch_end(self, epoch, logs={}):\n",
        "            if (logs.get('accuracy')>0.997):\n",
        "                print('\\nReached desired accuracy. Stop Training.')\n",
        "                self.model.stop_training = True\n",
        "    \n",
        "    \n",
        "    callback = StopTraining()\n",
        "    mnist = tf.keras.datasets.mnist\n",
        "    (training_images, training_labels), (test_images, test_labels) = mnist.load_data()\n",
        "    \n",
        "    training_images = training_images.reshape([60000,28,28,1])\n",
        "    training_images =training_images/255.0\n",
        "    test_images = test_images.reshape([10000,28,28,1])\n",
        "    test_images = test_images/255.0\n",
        "    \n",
        "\n",
        "    model = tf.keras.models.Sequential([\n",
        "            \n",
        "            tf.keras.layers.Conv2D(64, (3,3), activation='relu', input_shape=(28,28,1)),\n",
        "            tf.keras.layers.MaxPool2D(2,2),\n",
        "            tf.keras.layers.Flatten(),\n",
        "            tf.keras.layers.Dense(128, activation='relu'),\n",
        "            tf.keras.layers.Dense(10, activation='softmax')\n",
        "            \n",
        "    ])\n",
        "\n",
        "    model.compile(optimizer='adam', loss='sparse_categorical_crossentropy', metrics=['accuracy'])\n",
        "   \n",
        "    history = model.fit(\n",
        "       \n",
        "        training_images, training_labels, epochs=20, callbacks=[callback]\n",
        "        \n",
        "    )\n",
        "   \n",
        "    return history.epoch, history.history['accuracy'][-1]\n",
        "\n",
        "train_mnist_conv()"
      ],
      "execution_count": 8,
      "outputs": [
        {
          "output_type": "stream",
          "text": [
            "Epoch 1/20\n",
            "1875/1875 [==============================] - 55s 29ms/step - loss: 0.1336 - accuracy: 0.9601\n",
            "Epoch 2/20\n",
            "1875/1875 [==============================] - 54s 29ms/step - loss: 0.0478 - accuracy: 0.9854\n",
            "Epoch 3/20\n",
            "1875/1875 [==============================] - 54s 29ms/step - loss: 0.0278 - accuracy: 0.9916\n",
            "Epoch 4/20\n",
            "1875/1875 [==============================] - 54s 29ms/step - loss: 0.0172 - accuracy: 0.9945\n",
            "Epoch 5/20\n",
            "1875/1875 [==============================] - 54s 29ms/step - loss: 0.0128 - accuracy: 0.9960\n",
            "Epoch 6/20\n",
            "1875/1875 [==============================] - ETA: 0s - loss: 0.0084 - accuracy: 0.9974\n",
            "Reached desired accuracy. Stop Training.\n",
            "1875/1875 [==============================] - 54s 29ms/step - loss: 0.0084 - accuracy: 0.9974\n"
          ],
          "name": "stdout"
        },
        {
          "output_type": "execute_result",
          "data": {
            "text/plain": [
              "([0, 1, 2, 3, 4, 5], 0.9974166750907898)"
            ]
          },
          "metadata": {
            "tags": []
          },
          "execution_count": 8
        }
      ]
    },
    {
      "cell_type": "code",
      "metadata": {
        "id": "sfWQlBDfyhPW",
        "colab_type": "code",
        "colab": {}
      },
      "source": [
        ""
      ],
      "execution_count": 0,
      "outputs": []
    }
  ]
}