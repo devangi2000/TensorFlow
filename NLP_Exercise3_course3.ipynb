{
  "nbformat": 4,
  "nbformat_minor": 0,
  "metadata": {
    "colab": {
      "name": "NLP_Exercise3_course3.ipynb",
      "provenance": [],
      "collapsed_sections": [],
      "authorship_tag": "ABX9TyOp7B2k4yNttsdE9uBn+tfu",
      "include_colab_link": true
    },
    "kernelspec": {
      "name": "python3",
      "display_name": "Python 3"
    }
  },
  "cells": [
    {
      "cell_type": "markdown",
      "metadata": {
        "id": "view-in-github",
        "colab_type": "text"
      },
      "source": [
        "<a href=\"https://colab.research.google.com/github/devangi2000/TensorFlow01/blob/master/NLP_Exercise3_course3.ipynb\" target=\"_parent\"><img src=\"https://colab.research.google.com/assets/colab-badge.svg\" alt=\"Open In Colab\"/></a>"
      ]
    },
    {
      "cell_type": "code",
      "metadata": {
        "id": "33D3Wbjivizj",
        "colab_type": "code",
        "colab": {}
      },
      "source": [
        "import json\n",
        "import tensorflow as tf\n",
        "import csv\n",
        "import random\n",
        "import numpy as np\n",
        "\n",
        "from tensorflow.keras.preprocessing.text import Tokenizer\n",
        "from tensorflow.keras.preprocessing.sequence import pad_sequences\n",
        "from tensorflow.keras.utils import to_categorical\n",
        "from tensorflow.keras import regularizers\n",
        "\n",
        "\n",
        "embedding_dim = 100\n",
        "max_length = 16\n",
        "trunc_type='post'\n",
        "padding_type='post'\n",
        "oov_tok = \"<OOV>\"\n",
        "training_size=160000\n",
        "test_portion=.1\n",
        "\n",
        "corpus = []\n"
      ],
      "execution_count": 7,
      "outputs": []
    },
    {
      "cell_type": "code",
      "metadata": {
        "id": "LvQcz20fwZLA",
        "colab_type": "code",
        "colab": {
          "base_uri": "https://localhost:8080/",
          "height": 204
        },
        "outputId": "b680d545-a9c4-4fea-de47-15443c9f09ff"
      },
      "source": [
        "!wget --no-check-certificate \\\n",
        "    https://storage.googleapis.com/laurencemoroney-blog.appspot.com/training_cleaned.csv \\\n",
        "    -O /tmp/training_cleaned.csv"
      ],
      "execution_count": 8,
      "outputs": [
        {
          "output_type": "stream",
          "text": [
            "--2020-06-18 17:06:59--  https://storage.googleapis.com/laurencemoroney-blog.appspot.com/training_cleaned.csv\n",
            "Resolving storage.googleapis.com (storage.googleapis.com)... 172.217.204.128, 2607:f8b0:400c:c13::80\n",
            "Connecting to storage.googleapis.com (storage.googleapis.com)|172.217.204.128|:443... connected.\n",
            "HTTP request sent, awaiting response... 200 OK\n",
            "Length: 238942690 (228M) [application/octet-stream]\n",
            "Saving to: ‘/tmp/training_cleaned.csv’\n",
            "\n",
            "/tmp/training_clean 100%[===================>] 227.87M   187MB/s    in 1.2s    \n",
            "\n",
            "2020-06-18 17:07:00 (187 MB/s) - ‘/tmp/training_cleaned.csv’ saved [238942690/238942690]\n",
            "\n"
          ],
          "name": "stdout"
        }
      ]
    },
    {
      "cell_type": "code",
      "metadata": {
        "id": "28j4dBFbxFRv",
        "colab_type": "code",
        "colab": {}
      },
      "source": [
        "num_sentences = 0\n",
        "\n",
        "with open(\"/tmp/training_cleaned.csv\") as csvfile:\n",
        "    reader = csv.reader(csvfile, delimiter=',')\n",
        "    for row in reader:\n",
        "      # Your Code here. Create list items where the first item is the text, found in row[5], and the second is the label. Note that the label is a '0' or a '4' in the text. When it's the former, make\n",
        "      # your label to be 0, otherwise 1. Keep a count of the number of sentences in num_sentences\n",
        "        list_item=[]\n",
        "        # YOUR CODE HERE\n",
        "        list_item.append(row[5])\n",
        "        this_label = row[0]\n",
        "        if this_label == '0':\n",
        "          list_item.append(0)\n",
        "        else:\n",
        "          list_item.append(1)\n",
        "        num_sentences = num_sentences + 1\n",
        "        corpus.append(list_item)"
      ],
      "execution_count": 9,
      "outputs": []
    },
    {
      "cell_type": "code",
      "metadata": {
        "id": "hc_4r9LR3MGk",
        "colab_type": "code",
        "colab": {
          "base_uri": "https://localhost:8080/",
          "height": 68
        },
        "outputId": "38006b2f-8778-49dc-fbd6-9c4185358e76"
      },
      "source": [
        "print(num_sentences)\n",
        "print(len(corpus))\n",
        "print(corpus[1])\n"
      ],
      "execution_count": 10,
      "outputs": [
        {
          "output_type": "stream",
          "text": [
            "1600000\n",
            "1600000\n",
            "[\"is upset that he can't update his Facebook by texting it... and might cry as a result  School today also. Blah!\", 0]\n"
          ],
          "name": "stdout"
        }
      ]
    },
    {
      "cell_type": "code",
      "metadata": {
        "id": "p_0am6UhVU6-",
        "colab_type": "code",
        "colab": {}
      },
      "source": [
        "sentences=[]\n",
        "labels=[]\n",
        "random.shuffle(corpus)\n",
        "for x in range(training_size):\n",
        "    sentences.append(corpus[x][0])\n",
        "    labels.append(corpus[x][1])\n",
        "\n",
        "\n",
        "tokenizer = Tokenizer()\n",
        "tokenizer.fit_on_texts(sentences)\n",
        "\n",
        "word_index = tokenizer.word_index\n",
        "vocab_size=len(word_index)"
      ],
      "execution_count": 11,
      "outputs": []
    },
    {
      "cell_type": "code",
      "metadata": {
        "id": "ezlV9LxUZUc6",
        "colab_type": "code",
        "colab": {}
      },
      "source": [
        "sequences = tokenizer.texts_to_sequences(sentences)\n",
        "padded = pad_sequences(sequences, maxlen=max_length, padding=padding_type, truncating=trunc_type)\n",
        "\n",
        "split = int(test_portion * training_size)\n",
        "\n",
        "test_sequences = padded[0:split]\n",
        "training_sequences = padded[split:training_size]\n",
        "test_labels = labels[0:split]\n",
        "training_labels = labels[split:training_size]"
      ],
      "execution_count": 13,
      "outputs": []
    },
    {
      "cell_type": "code",
      "metadata": {
        "id": "L8vPjAqMZ6Yv",
        "colab_type": "code",
        "colab": {
          "base_uri": "https://localhost:8080/",
          "height": 51
        },
        "outputId": "54ab8fb0-9e52-40e6-ab71-03e92de91e8a"
      },
      "source": [
        "print(vocab_size)\n",
        "print(word_index['i'])"
      ],
      "execution_count": 14,
      "outputs": [
        {
          "output_type": "stream",
          "text": [
            "138250\n",
            "1\n"
          ],
          "name": "stdout"
        }
      ]
    },
    {
      "cell_type": "code",
      "metadata": {
        "id": "GvHgvn-3aWpB",
        "colab_type": "code",
        "colab": {
          "base_uri": "https://localhost:8080/",
          "height": 204
        },
        "outputId": "f570d973-b53a-4b50-a338-e79f5509841e"
      },
      "source": [
        "# Note this is the 100 dimension version of GloVe from Stanford\n",
        "!wget --no-check-certificate \\\n",
        "    https://storage.googleapis.com/laurencemoroney-blog.appspot.com/glove.6B.100d.txt \\\n",
        "    -O /tmp/glove.6B.100d.txt\n",
        "embeddings_index = {};\n",
        "with open('/tmp/glove.6B.100d.txt') as f:\n",
        "    for line in f:\n",
        "        values = line.split();\n",
        "        word = values[0];\n",
        "        coefs = np.asarray(values[1:], dtype='float32');\n",
        "        embeddings_index[word] = coefs;\n",
        "\n",
        "embeddings_matrix = np.zeros((vocab_size+1, embedding_dim));\n",
        "for word, i in word_index.items():\n",
        "    embedding_vector = embeddings_index.get(word);\n",
        "    if embedding_vector is not None:\n",
        "        embeddings_matrix[i] = embedding_vector;"
      ],
      "execution_count": 15,
      "outputs": [
        {
          "output_type": "stream",
          "text": [
            "--2020-06-18 17:11:42--  https://storage.googleapis.com/laurencemoroney-blog.appspot.com/glove.6B.100d.txt\n",
            "Resolving storage.googleapis.com (storage.googleapis.com)... 172.217.203.128, 2607:f8b0:400c:c15::80\n",
            "Connecting to storage.googleapis.com (storage.googleapis.com)|172.217.203.128|:443... connected.\n",
            "HTTP request sent, awaiting response... 200 OK\n",
            "Length: 347116733 (331M) [text/plain]\n",
            "Saving to: ‘/tmp/glove.6B.100d.txt’\n",
            "\n",
            "/tmp/glove.6B.100d. 100%[===================>] 331.04M   111MB/s    in 3.0s    \n",
            "\n",
            "2020-06-18 17:11:45 (111 MB/s) - ‘/tmp/glove.6B.100d.txt’ saved [347116733/347116733]\n",
            "\n"
          ],
          "name": "stdout"
        }
      ]
    },
    {
      "cell_type": "code",
      "metadata": {
        "id": "_dQfqgUiaitm",
        "colab_type": "code",
        "colab": {
          "base_uri": "https://localhost:8080/",
          "height": 34
        },
        "outputId": "8f50bd76-dd96-4ff4-a73f-236cdc617fe4"
      },
      "source": [
        "print(len(embeddings_matrix))"
      ],
      "execution_count": 16,
      "outputs": [
        {
          "output_type": "stream",
          "text": [
            "138251\n"
          ],
          "name": "stdout"
        }
      ]
    },
    {
      "cell_type": "code",
      "metadata": {
        "id": "QLXUJoBua2hj",
        "colab_type": "code",
        "colab": {}
      },
      "source": [
        "model = tf.keras.Sequential([\n",
        "    tf.keras.layers.Embedding(vocab_size+1, embedding_dim, input_length=max_length, weights=[embeddings_matrix], trainable=False),\n",
        "    tf.keras.layers.Dropout(0.2),\n",
        "    tf.keras.layers.Conv1D(64, 5, activation='relu'),\n",
        "    tf.keras.layers.MaxPooling1D(pool_size=4),\n",
        "    tf.keras.layers.LSTM(64),\n",
        "    tf.keras.layers.Dense(1, activation='sigmoid')\n",
        "    ])"
      ],
      "execution_count": 19,
      "outputs": []
    },
    {
      "cell_type": "code",
      "metadata": {
        "id": "ZbVix_fnbW67",
        "colab_type": "code",
        "colab": {
          "base_uri": "https://localhost:8080/",
          "height": 357
        },
        "outputId": "2e01959c-f47b-42cd-d68a-578f1083e09b"
      },
      "source": [
        "model.compile(optimizer='adam', loss='binary_crossentropy', metrics=['accuracy'])\n",
        "model.summary()"
      ],
      "execution_count": 24,
      "outputs": [
        {
          "output_type": "stream",
          "text": [
            "Model: \"sequential\"\n",
            "_________________________________________________________________\n",
            "Layer (type)                 Output Shape              Param #   \n",
            "=================================================================\n",
            "embedding (Embedding)        (None, 16, 100)           13825100  \n",
            "_________________________________________________________________\n",
            "dropout (Dropout)            (None, 16, 100)           0         \n",
            "_________________________________________________________________\n",
            "conv1d (Conv1D)              (None, 12, 64)            32064     \n",
            "_________________________________________________________________\n",
            "max_pooling1d (MaxPooling1D) (None, 3, 64)             0         \n",
            "_________________________________________________________________\n",
            "lstm (LSTM)                  (None, 64)                33024     \n",
            "_________________________________________________________________\n",
            "dense (Dense)                (None, 1)                 65        \n",
            "=================================================================\n",
            "Total params: 13,890,253\n",
            "Trainable params: 65,153\n",
            "Non-trainable params: 13,825,100\n",
            "_________________________________________________________________\n"
          ],
          "name": "stdout"
        }
      ]
    },
    {
      "cell_type": "code",
      "metadata": {
        "id": "aRFiKUSHcWui",
        "colab_type": "code",
        "colab": {
          "base_uri": "https://localhost:8080/",
          "height": 1000
        },
        "outputId": "78bd4f1a-5b41-41e0-b84f-22490e269778"
      },
      "source": [
        "num_epochs = 50\n",
        "\n",
        "training_padded = np.array(training_sequences)\n",
        "training_labels = np.array(training_labels)\n",
        "testing_padded = np.array(test_sequences)\n",
        "testing_labels = np.array(test_labels)\n",
        "\n",
        "history = model.fit(training_padded, training_labels, epochs=num_epochs, validation_data=(testing_padded, testing_labels), verbose=2)\n",
        "\n",
        "print(\"Training Complete\")"
      ],
      "execution_count": 25,
      "outputs": [
        {
          "output_type": "stream",
          "text": [
            "Epoch 1/50\n",
            "4500/4500 - 29s - loss: 0.5159 - accuracy: 0.7402 - val_loss: 0.5096 - val_accuracy: 0.7429\n",
            "Epoch 2/50\n",
            "4500/4500 - 28s - loss: 0.5040 - accuracy: 0.7493 - val_loss: 0.5051 - val_accuracy: 0.7491\n",
            "Epoch 3/50\n",
            "4500/4500 - 27s - loss: 0.4928 - accuracy: 0.7560 - val_loss: 0.5072 - val_accuracy: 0.7502\n",
            "Epoch 4/50\n",
            "4500/4500 - 26s - loss: 0.4860 - accuracy: 0.7605 - val_loss: 0.4984 - val_accuracy: 0.7554\n",
            "Epoch 5/50\n",
            "4500/4500 - 26s - loss: 0.4785 - accuracy: 0.7668 - val_loss: 0.5037 - val_accuracy: 0.7517\n",
            "Epoch 6/50\n",
            "4500/4500 - 26s - loss: 0.4733 - accuracy: 0.7693 - val_loss: 0.5003 - val_accuracy: 0.7540\n",
            "Epoch 7/50\n",
            "4500/4500 - 28s - loss: 0.4695 - accuracy: 0.7719 - val_loss: 0.4999 - val_accuracy: 0.7539\n",
            "Epoch 8/50\n",
            "4500/4500 - 27s - loss: 0.4659 - accuracy: 0.7741 - val_loss: 0.4993 - val_accuracy: 0.7533\n",
            "Epoch 9/50\n",
            "4500/4500 - 28s - loss: 0.4614 - accuracy: 0.7768 - val_loss: 0.4971 - val_accuracy: 0.7581\n",
            "Epoch 10/50\n",
            "4500/4500 - 27s - loss: 0.4578 - accuracy: 0.7778 - val_loss: 0.5043 - val_accuracy: 0.7573\n",
            "Epoch 11/50\n",
            "4500/4500 - 27s - loss: 0.4560 - accuracy: 0.7798 - val_loss: 0.5003 - val_accuracy: 0.7541\n",
            "Epoch 12/50\n",
            "4500/4500 - 27s - loss: 0.4530 - accuracy: 0.7813 - val_loss: 0.5045 - val_accuracy: 0.7502\n",
            "Epoch 13/50\n",
            "4500/4500 - 28s - loss: 0.4502 - accuracy: 0.7838 - val_loss: 0.5077 - val_accuracy: 0.7519\n",
            "Epoch 14/50\n",
            "4500/4500 - 27s - loss: 0.4480 - accuracy: 0.7840 - val_loss: 0.5101 - val_accuracy: 0.7525\n",
            "Epoch 15/50\n",
            "4500/4500 - 27s - loss: 0.4466 - accuracy: 0.7855 - val_loss: 0.5077 - val_accuracy: 0.7526\n",
            "Epoch 16/50\n",
            "4500/4500 - 27s - loss: 0.4440 - accuracy: 0.7877 - val_loss: 0.5097 - val_accuracy: 0.7549\n",
            "Epoch 17/50\n",
            "4500/4500 - 27s - loss: 0.4431 - accuracy: 0.7878 - val_loss: 0.5111 - val_accuracy: 0.7521\n",
            "Epoch 18/50\n",
            "4500/4500 - 27s - loss: 0.4414 - accuracy: 0.7886 - val_loss: 0.5100 - val_accuracy: 0.7543\n",
            "Epoch 19/50\n",
            "4500/4500 - 27s - loss: 0.4412 - accuracy: 0.7885 - val_loss: 0.5166 - val_accuracy: 0.7519\n",
            "Epoch 20/50\n",
            "4500/4500 - 27s - loss: 0.4389 - accuracy: 0.7897 - val_loss: 0.5151 - val_accuracy: 0.7552\n",
            "Epoch 21/50\n",
            "4500/4500 - 30s - loss: 0.4368 - accuracy: 0.7915 - val_loss: 0.5100 - val_accuracy: 0.7527\n",
            "Epoch 22/50\n",
            "4500/4500 - 28s - loss: 0.4381 - accuracy: 0.7902 - val_loss: 0.5173 - val_accuracy: 0.7492\n",
            "Epoch 23/50\n",
            "4500/4500 - 27s - loss: 0.4362 - accuracy: 0.7920 - val_loss: 0.5155 - val_accuracy: 0.7473\n",
            "Epoch 24/50\n",
            "4500/4500 - 26s - loss: 0.4361 - accuracy: 0.7911 - val_loss: 0.5110 - val_accuracy: 0.7554\n",
            "Epoch 25/50\n",
            "4500/4500 - 27s - loss: 0.4347 - accuracy: 0.7938 - val_loss: 0.5121 - val_accuracy: 0.7571\n",
            "Epoch 26/50\n",
            "4500/4500 - 26s - loss: 0.4337 - accuracy: 0.7926 - val_loss: 0.5203 - val_accuracy: 0.7525\n",
            "Epoch 27/50\n",
            "4500/4500 - 27s - loss: 0.4334 - accuracy: 0.7930 - val_loss: 0.5155 - val_accuracy: 0.7538\n",
            "Epoch 28/50\n",
            "4500/4500 - 26s - loss: 0.4315 - accuracy: 0.7945 - val_loss: 0.5168 - val_accuracy: 0.7519\n",
            "Epoch 29/50\n",
            "4500/4500 - 26s - loss: 0.4325 - accuracy: 0.7930 - val_loss: 0.5195 - val_accuracy: 0.7517\n",
            "Epoch 30/50\n",
            "4500/4500 - 26s - loss: 0.4300 - accuracy: 0.7961 - val_loss: 0.5179 - val_accuracy: 0.7523\n",
            "Epoch 31/50\n",
            "4500/4500 - 26s - loss: 0.4320 - accuracy: 0.7935 - val_loss: 0.5153 - val_accuracy: 0.7509\n",
            "Epoch 32/50\n",
            "4500/4500 - 26s - loss: 0.4315 - accuracy: 0.7945 - val_loss: 0.5136 - val_accuracy: 0.7512\n",
            "Epoch 33/50\n",
            "4500/4500 - 26s - loss: 0.4302 - accuracy: 0.7952 - val_loss: 0.5106 - val_accuracy: 0.7514\n",
            "Epoch 34/50\n",
            "4500/4500 - 26s - loss: 0.4285 - accuracy: 0.7963 - val_loss: 0.5165 - val_accuracy: 0.7530\n",
            "Epoch 35/50\n",
            "4500/4500 - 26s - loss: 0.4299 - accuracy: 0.7967 - val_loss: 0.5115 - val_accuracy: 0.7543\n",
            "Epoch 36/50\n",
            "4500/4500 - 26s - loss: 0.4283 - accuracy: 0.7968 - val_loss: 0.5163 - val_accuracy: 0.7508\n",
            "Epoch 37/50\n",
            "4500/4500 - 27s - loss: 0.4287 - accuracy: 0.7963 - val_loss: 0.5170 - val_accuracy: 0.7513\n",
            "Epoch 38/50\n",
            "4500/4500 - 26s - loss: 0.4275 - accuracy: 0.7970 - val_loss: 0.5236 - val_accuracy: 0.7501\n",
            "Epoch 39/50\n",
            "4500/4500 - 26s - loss: 0.4279 - accuracy: 0.7971 - val_loss: 0.5187 - val_accuracy: 0.7523\n",
            "Epoch 40/50\n",
            "4500/4500 - 26s - loss: 0.4280 - accuracy: 0.7962 - val_loss: 0.5181 - val_accuracy: 0.7504\n",
            "Epoch 41/50\n",
            "4500/4500 - 26s - loss: 0.4271 - accuracy: 0.7958 - val_loss: 0.5179 - val_accuracy: 0.7494\n",
            "Epoch 42/50\n",
            "4500/4500 - 26s - loss: 0.4258 - accuracy: 0.7970 - val_loss: 0.5213 - val_accuracy: 0.7501\n",
            "Epoch 43/50\n",
            "4500/4500 - 26s - loss: 0.4264 - accuracy: 0.7979 - val_loss: 0.5183 - val_accuracy: 0.7488\n",
            "Epoch 44/50\n",
            "4500/4500 - 30s - loss: 0.4265 - accuracy: 0.7976 - val_loss: 0.5250 - val_accuracy: 0.7503\n",
            "Epoch 45/50\n",
            "4500/4500 - 27s - loss: 0.4270 - accuracy: 0.7963 - val_loss: 0.5204 - val_accuracy: 0.7492\n",
            "Epoch 46/50\n",
            "4500/4500 - 26s - loss: 0.4273 - accuracy: 0.7970 - val_loss: 0.5218 - val_accuracy: 0.7501\n",
            "Epoch 47/50\n",
            "4500/4500 - 26s - loss: 0.4243 - accuracy: 0.7988 - val_loss: 0.5208 - val_accuracy: 0.7515\n",
            "Epoch 48/50\n",
            "4500/4500 - 27s - loss: 0.4254 - accuracy: 0.7984 - val_loss: 0.5221 - val_accuracy: 0.7521\n",
            "Epoch 49/50\n",
            "4500/4500 - 26s - loss: 0.4254 - accuracy: 0.7981 - val_loss: 0.5173 - val_accuracy: 0.7508\n",
            "Epoch 50/50\n",
            "4500/4500 - 26s - loss: 0.4252 - accuracy: 0.7982 - val_loss: 0.5241 - val_accuracy: 0.7511\n",
            "Training Complete\n"
          ],
          "name": "stdout"
        }
      ]
    },
    {
      "cell_type": "code",
      "metadata": {
        "id": "K7-lpcSAbrqt",
        "colab_type": "code",
        "colab": {
          "base_uri": "https://localhost:8080/",
          "height": 607
        },
        "outputId": "6f1512ca-c77b-45b1-cc0d-505ce6ab57cd"
      },
      "source": [
        "import matplotlib.image  as mpimg\n",
        "import matplotlib.pyplot as plt\n",
        "\n",
        "#-----------------------------------------------------------\n",
        "# Retrieve a list of list results on training and test data\n",
        "# sets for each training epoch\n",
        "#-----------------------------------------------------------\n",
        "acc=history.history['accuracy']\n",
        "val_acc=history.history['val_accuracy']\n",
        "loss=history.history['loss']\n",
        "val_loss=history.history['val_loss']\n",
        "\n",
        "epochs=range(len(acc)) # Get number of epochs\n",
        "\n",
        "#------------------------------------------------\n",
        "# Plot training and validation accuracy per epoch\n",
        "#------------------------------------------------\n",
        "plt.plot(epochs, acc, 'r')\n",
        "plt.plot(epochs, val_acc, 'b')\n",
        "plt.title('Training and validation accuracy')\n",
        "plt.xlabel(\"Epochs\")\n",
        "plt.ylabel(\"Accuracy\")\n",
        "plt.legend([\"Accuracy\", \"Validation Accuracy\"])\n",
        "\n",
        "plt.figure()\n",
        "\n",
        "#------------------------------------------------\n",
        "# Plot training and validation loss per epoch\n",
        "#------------------------------------------------\n",
        "plt.plot(epochs, loss, 'r')\n",
        "plt.plot(epochs, val_loss, 'b')\n",
        "plt.title('Training and validation loss')\n",
        "plt.xlabel(\"Epochs\")\n",
        "plt.ylabel(\"Loss\")\n",
        "plt.legend([\"Loss\", \"Validation Loss\"])\n",
        "\n",
        "plt.figure()\n",
        "\n",
        "\n",
        "# Expected Output\n",
        "# A chart where the validation loss does not increase sharply!"
      ],
      "execution_count": 26,
      "outputs": [
        {
          "output_type": "execute_result",
          "data": {
            "text/plain": [
              "<Figure size 432x288 with 0 Axes>"
            ]
          },
          "metadata": {
            "tags": []
          },
          "execution_count": 26
        },
        {
          "output_type": "display_data",
          "data": {
            "image/png": "[encoded data removed]",
            "text/plain": [
              "<Figure size 432x288 with 1 Axes>"
            ]
          },
          "metadata": {
            "tags": [],
            "needs_background": "light"
          }
        },
        {
          "output_type": "display_data",
          "data": {
            "image/png": "[encoded data removed]",
            "text/plain": [
              "<Figure size 432x288 with 1 Axes>"
            ]
          },
          "metadata": {
            "tags": [],
            "needs_background": "light"
          }
        },
        {
          "output_type": "display_data",
          "data": {
            "text/plain": [
              "<Figure size 432x288 with 0 Axes>"
            ]
          },
          "metadata": {
            "tags": []
          }
        }
      ]
    },
    {
      "cell_type": "code",
      "metadata": {
        "id": "8EgQFgLqcG5x",
        "colab_type": "code",
        "colab": {}
      },
      "source": [
        ""
      ],
      "execution_count": null,
      "outputs": []
    }
  ]
}