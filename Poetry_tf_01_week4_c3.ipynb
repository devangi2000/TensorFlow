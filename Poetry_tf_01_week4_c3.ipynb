{
  "nbformat": 4,
  "nbformat_minor": 0,
  "metadata": {
    "colab": {
      "name": "Poetry_tf_01_week4_c3.ipynb",
      "provenance": [],
      "authorship_tag": "ABX9TyNANbhMkIbdC6ond1EzMPG8",
      "include_colab_link": true
    },
    "kernelspec": {
      "name": "python3",
      "display_name": "Python 3"
    }
  },
  "cells": [
    {
      "cell_type": "markdown",
      "metadata": {
        "id": "view-in-github",
        "colab_type": "text"
      },
      "source": [
        "<a href=\"https://colab.research.google.com/github/devangi2000/TensorFlow01/blob/master/Poetry_tf_01_week4_c3.ipynb\" target=\"_parent\"><img src=\"https://colab.research.google.com/assets/colab-badge.svg\" alt=\"Open In Colab\"/></a>"
      ]
    },
    {
      "cell_type": "code",
      "metadata": {
        "id": "HNgxXrAHwhtm",
        "colab_type": "code",
        "colab": {}
      },
      "source": [
        "import tensorflow as tf\n",
        "\n",
        "from tensorflow.keras.preprocessing.sequence import pad_sequences\n",
        "from tensorflow.keras.layers import Embedding, LSTM, Dense, Bidirectional\n",
        "from tensorflow.keras.preprocessing.text import Tokenizer\n",
        "from tensorflow.keras.models import Sequential\n",
        "from tensorflow.keras.optimizers import Adam\n",
        "import numpy as np"
      ],
      "execution_count": 1,
      "outputs": []
    },
    {
      "cell_type": "code",
      "metadata": {
        "id": "S97ECMD-xBRF",
        "colab_type": "code",
        "colab": {}
      },
      "source": [
        "tokenizer = Tokenizer()"
      ],
      "execution_count": 2,
      "outputs": []
    },
    {
      "cell_type": "code",
      "metadata": {
        "id": "evOlslwlxJz0",
        "colab_type": "code",
        "colab": {}
      },
      "source": [
        "data=\"In the town of Athy one Jeremy Lanigan \\n Battered away til he hadnt a pound. \\nHis father died and made him a man again \\n Left him a farm and ten acres of ground. \\nHe gave a grand party for friends and relations \\nWho didnt forget him when come to the wall, \\nAnd if youll but listen Ill make your eyes glisten \\nOf the rows and the ructions of Lanigans Ball. \\nMyself to be sure got free invitation, \\nFor all the nice girls and boys I might ask, \\nAnd just in a minute both friends and relations \\nWere dancing round merry as bees round a cask. \\nJudy ODaly, that nice little milliner, \\nShe tipped me a wink for to give her a call, \\nAnd I soon arrived with Peggy McGilligan \\nJust in time for Lanigans Ball. \\nThere were lashings of punch and wine for the ladies, \\nPotatoes and cakes; there was bacon and tea, \\nThere were the Nolans, Dolans, OGradys \\nCourting the girls and dancing away. \\nSongs they went round as plenty as water, \\nThe harp that once sounded in Taras old hall,\\nSweet Nelly Gray and The Rat Catchers Daughter,\\nAll singing together at Lanigans Ball. \\nThey were doing all kinds of nonsensical polkas \\nAll round the room in a whirligig. \\nJulia and I, we banished their nonsense \\nAnd tipped them the twist of a reel and a jig. \\nAch mavrone, how the girls got all mad at me \\nDanced til youd think the ceiling would fall. \\nFor I spent three weeks at Brooks Academy \\nLearning new steps for Lanigans Ball. \\nThree long weeks I spent up in Dublin, \\nThree long weeks to learn nothing at all,\\n Three long weeks I spent up in Dublin, \\nLearning new steps for Lanigans Ball. \\nShe stepped out and I stepped in again, \\nI stepped out and she stepped in again, \\nShe stepped out and I stepped in again, \\nLearning new steps for Lanigans Ball. \\nBoys were all merry and the girls they were hearty \\nAnd danced all around in couples and groups, \\nTil an accident happened, young Terrance McCarthy \\nPut his right leg through miss Finnertys hoops. \\nPoor creature fainted and cried Meelia murther, \\nCalled for her brothers and gathered them all. \\nCarmody swore that hed go no further \\nTil he had satisfaction at Lanigans Ball. \\nIn the midst of the row miss Kerrigan fainted, \\nHer cheeks at the same time as red as a rose. \\nSome of the lads declared she was painted, \\nShe took a small drop too much, I suppose. \\nHer sweetheart, Ned Morgan, so powerful and able, \\nWhen he saw his fair colleen stretched out by the wall, \\nTore the left leg from under the table \\nAnd smashed all the Chaneys at Lanigans Ball. \\nBoys, oh boys, twas then there were runctions. \\nMyself got a lick from big Phelim McHugh. \\nI soon replied to his introduction \\nAnd kicked up a terrible hullabaloo. \\nOld Casey, the piper, was near being strangled. \\nThey squeezed up his pipes, bellows, chanters and all. \\nThe girls, in their ribbons, they got all entangled \\nAnd that put an end to Lanigans Ball.\""
      ],
      "execution_count": 3,
      "outputs": []
    },
    {
      "cell_type": "code",
      "metadata": {
        "id": "dd-5_23fxNR5",
        "colab_type": "code",
        "colab": {
          "base_uri": "https://localhost:8080/",
          "height": 1000
        },
        "outputId": "9a8887a2-a1d7-4945-93f6-f65094093765"
      },
      "source": [
        "corpus = data.lower().split('\\n')\n",
        "corpus"
      ],
      "execution_count": 6,
      "outputs": [
        {
          "output_type": "execute_result",
          "data": {
            "text/plain": [
              "['in the town of athy one jeremy lanigan ',\n",
              " ' battered away til he hadnt a pound. ',\n",
              " 'his father died and made him a man again ',\n",
              " ' left him a farm and ten acres of ground. ',\n",
              " 'he gave a grand party for friends and relations ',\n",
              " 'who didnt forget him when come to the wall, ',\n",
              " 'and if youll but listen ill make your eyes glisten ',\n",
              " 'of the rows and the ructions of lanigans ball. ',\n",
              " 'myself to be sure got free invitation, ',\n",
              " 'for all the nice girls and boys i might ask, ',\n",
              " 'and just in a minute both friends and relations ',\n",
              " 'were dancing round merry as bees round a cask. ',\n",
              " 'judy odaly, that nice little milliner, ',\n",
              " 'she tipped me a wink for to give her a call, ',\n",
              " 'and i soon arrived with peggy mcgilligan ',\n",
              " 'just in time for lanigans ball. ',\n",
              " 'there were lashings of punch and wine for the ladies, ',\n",
              " 'potatoes and cakes; there was bacon and tea, ',\n",
              " 'there were the nolans, dolans, ogradys ',\n",
              " 'courting the girls and dancing away. ',\n",
              " 'songs they went round as plenty as water, ',\n",
              " 'the harp that once sounded in taras old hall,',\n",
              " 'sweet nelly gray and the rat catchers daughter,',\n",
              " 'all singing together at lanigans ball. ',\n",
              " 'they were doing all kinds of nonsensical polkas ',\n",
              " 'all round the room in a whirligig. ',\n",
              " 'julia and i, we banished their nonsense ',\n",
              " 'and tipped them the twist of a reel and a jig. ',\n",
              " 'ach mavrone, how the girls got all mad at me ',\n",
              " 'danced til youd think the ceiling would fall. ',\n",
              " 'for i spent three weeks at brooks academy ',\n",
              " 'learning new steps for lanigans ball. ',\n",
              " 'three long weeks i spent up in dublin, ',\n",
              " 'three long weeks to learn nothing at all,',\n",
              " ' three long weeks i spent up in dublin, ',\n",
              " 'learning new steps for lanigans ball. ',\n",
              " 'she stepped out and i stepped in again, ',\n",
              " 'i stepped out and she stepped in again, ',\n",
              " 'she stepped out and i stepped in again, ',\n",
              " 'learning new steps for lanigans ball. ',\n",
              " 'boys were all merry and the girls they were hearty ',\n",
              " 'and danced all around in couples and groups, ',\n",
              " 'til an accident happened, young terrance mccarthy ',\n",
              " 'put his right leg through miss finnertys hoops. ',\n",
              " 'poor creature fainted and cried meelia murther, ',\n",
              " 'called for her brothers and gathered them all. ',\n",
              " 'carmody swore that hed go no further ',\n",
              " 'til he had satisfaction at lanigans ball. ',\n",
              " 'in the midst of the row miss kerrigan fainted, ',\n",
              " 'her cheeks at the same time as red as a rose. ',\n",
              " 'some of the lads declared she was painted, ',\n",
              " 'she took a small drop too much, i suppose. ',\n",
              " 'her sweetheart, ned morgan, so powerful and able, ',\n",
              " 'when he saw his fair colleen stretched out by the wall, ',\n",
              " 'tore the left leg from under the table ',\n",
              " 'and smashed all the chaneys at lanigans ball. ',\n",
              " 'boys, oh boys, twas then there were runctions. ',\n",
              " 'myself got a lick from big phelim mchugh. ',\n",
              " 'i soon replied to his introduction ',\n",
              " 'and kicked up a terrible hullabaloo. ',\n",
              " 'old casey, the piper, was near being strangled. ',\n",
              " 'they squeezed up his pipes, bellows, chanters and all. ',\n",
              " 'the girls, in their ribbons, they got all entangled ',\n",
              " 'and that put an end to lanigans ball.']"
            ]
          },
          "metadata": {
            "tags": []
          },
          "execution_count": 6
        }
      ]
    },
    {
      "cell_type": "code",
      "metadata": {
        "id": "5YTqSBCIxXoM",
        "colab_type": "code",
        "colab": {
          "base_uri": "https://localhost:8080/",
          "height": 1000
        },
        "outputId": "4d1921b2-59e1-41aa-8351-464632257761"
      },
      "source": [
        "tokenizer.fit_on_texts(corpus)\n",
        "word_index = tokenizer.word_index\n",
        "word_index"
      ],
      "execution_count": 7,
      "outputs": [
        {
          "output_type": "execute_result",
          "data": {
            "text/plain": [
              "{'a': 3,\n",
              " 'able': 227,\n",
              " 'academy': 173,\n",
              " 'accident': 180,\n",
              " 'ach': 163,\n",
              " 'acres': 80,\n",
              " 'again': 22,\n",
              " 'all': 5,\n",
              " 'an': 60,\n",
              " 'and': 1,\n",
              " 'around': 177,\n",
              " 'arrived': 117,\n",
              " 'as': 18,\n",
              " 'ask': 105,\n",
              " 'at': 12,\n",
              " 'athy': 67,\n",
              " 'away': 40,\n",
              " 'bacon': 127,\n",
              " 'ball': 10,\n",
              " 'banished': 158,\n",
              " 'battered': 71,\n",
              " 'be': 100,\n",
              " 'bees': 108,\n",
              " 'being': 254,\n",
              " 'bellows': 258,\n",
              " 'big': 243,\n",
              " 'both': 107,\n",
              " 'boys': 24,\n",
              " 'brooks': 172,\n",
              " 'brothers': 195,\n",
              " 'but': 91,\n",
              " 'by': 232,\n",
              " 'cakes': 126,\n",
              " 'call': 116,\n",
              " 'called': 194,\n",
              " 'carmody': 197,\n",
              " 'casey': 251,\n",
              " 'cask': 109,\n",
              " 'catchers': 146,\n",
              " 'ceiling': 169,\n",
              " 'chaneys': 237,\n",
              " 'chanters': 259,\n",
              " 'cheeks': 208,\n",
              " 'colleen': 230,\n",
              " 'come': 88,\n",
              " 'couples': 178,\n",
              " 'courting': 132,\n",
              " 'creature': 190,\n",
              " 'cried': 191,\n",
              " 'danced': 58,\n",
              " 'dancing': 49,\n",
              " 'daughter': 147,\n",
              " 'declared': 214,\n",
              " 'didnt': 86,\n",
              " 'died': 75,\n",
              " 'doing': 150,\n",
              " 'dolans': 130,\n",
              " 'drop': 218,\n",
              " 'dublin': 59,\n",
              " 'end': 262,\n",
              " 'entangled': 261,\n",
              " 'eyes': 96,\n",
              " 'fainted': 64,\n",
              " 'fair': 229,\n",
              " 'fall': 171,\n",
              " 'farm': 78,\n",
              " 'father': 74,\n",
              " 'finnertys': 187,\n",
              " 'for': 7,\n",
              " 'forget': 87,\n",
              " 'free': 102,\n",
              " 'friends': 42,\n",
              " 'from': 65,\n",
              " 'further': 202,\n",
              " 'gathered': 196,\n",
              " 'gave': 82,\n",
              " 'girls': 17,\n",
              " 'give': 115,\n",
              " 'glisten': 97,\n",
              " 'go': 200,\n",
              " 'got': 23,\n",
              " 'grand': 83,\n",
              " 'gray': 144,\n",
              " 'ground': 81,\n",
              " 'groups': 179,\n",
              " 'had': 203,\n",
              " 'hadnt': 72,\n",
              " 'hall': 141,\n",
              " 'happened': 181,\n",
              " 'harp': 137,\n",
              " 'he': 21,\n",
              " 'hearty': 176,\n",
              " 'hed': 199,\n",
              " 'her': 27,\n",
              " 'him': 33,\n",
              " 'his': 16,\n",
              " 'hoops': 188,\n",
              " 'how': 165,\n",
              " 'hullabaloo': 250,\n",
              " 'i': 6,\n",
              " 'if': 89,\n",
              " 'ill': 93,\n",
              " 'in': 4,\n",
              " 'introduction': 247,\n",
              " 'invitation': 103,\n",
              " 'jeremy': 69,\n",
              " 'jig': 162,\n",
              " 'judy': 110,\n",
              " 'julia': 156,\n",
              " 'just': 48,\n",
              " 'kerrigan': 207,\n",
              " 'kicked': 248,\n",
              " 'kinds': 151,\n",
              " 'ladies': 124,\n",
              " 'lads': 213,\n",
              " 'lanigan': 70,\n",
              " 'lanigans': 9,\n",
              " 'lashings': 121,\n",
              " 'learn': 174,\n",
              " 'learning': 36,\n",
              " 'left': 41,\n",
              " 'leg': 62,\n",
              " 'lick': 242,\n",
              " 'listen': 92,\n",
              " 'little': 112,\n",
              " 'long': 39,\n",
              " 'mad': 166,\n",
              " 'made': 76,\n",
              " 'make': 94,\n",
              " 'man': 77,\n",
              " 'mavrone': 164,\n",
              " 'mccarthy': 184,\n",
              " 'mcgilligan': 120,\n",
              " 'mchugh': 245,\n",
              " 'me': 52,\n",
              " 'meelia': 192,\n",
              " 'merry': 50,\n",
              " 'midst': 205,\n",
              " 'might': 104,\n",
              " 'milliner': 113,\n",
              " 'minute': 106,\n",
              " 'miss': 63,\n",
              " 'morgan': 224,\n",
              " 'much': 220,\n",
              " 'murther': 193,\n",
              " 'myself': 46,\n",
              " 'near': 253,\n",
              " 'ned': 223,\n",
              " 'nelly': 143,\n",
              " 'new': 37,\n",
              " 'nice': 47,\n",
              " 'no': 201,\n",
              " 'nolans': 129,\n",
              " 'nonsense': 159,\n",
              " 'nonsensical': 152,\n",
              " 'nothing': 175,\n",
              " 'odaly': 111,\n",
              " 'of': 8,\n",
              " 'ogradys': 131,\n",
              " 'oh': 238,\n",
              " 'old': 55,\n",
              " 'once': 138,\n",
              " 'one': 68,\n",
              " 'out': 32,\n",
              " 'painted': 215,\n",
              " 'party': 84,\n",
              " 'peggy': 119,\n",
              " 'phelim': 244,\n",
              " 'piper': 252,\n",
              " 'pipes': 257,\n",
              " 'plenty': 135,\n",
              " 'polkas': 153,\n",
              " 'poor': 189,\n",
              " 'potatoes': 125,\n",
              " 'pound': 73,\n",
              " 'powerful': 226,\n",
              " 'punch': 122,\n",
              " 'put': 61,\n",
              " 'rat': 145,\n",
              " 'red': 210,\n",
              " 'reel': 161,\n",
              " 'relations': 43,\n",
              " 'replied': 246,\n",
              " 'ribbons': 260,\n",
              " 'right': 185,\n",
              " 'room': 154,\n",
              " 'rose': 211,\n",
              " 'round': 25,\n",
              " 'row': 206,\n",
              " 'rows': 98,\n",
              " 'ructions': 99,\n",
              " 'runctions': 241,\n",
              " 'same': 209,\n",
              " 'satisfaction': 204,\n",
              " 'saw': 228,\n",
              " 'she': 14,\n",
              " 'singing': 148,\n",
              " 'small': 217,\n",
              " 'smashed': 236,\n",
              " 'so': 225,\n",
              " 'some': 212,\n",
              " 'songs': 133,\n",
              " 'soon': 53,\n",
              " 'sounded': 139,\n",
              " 'spent': 35,\n",
              " 'squeezed': 256,\n",
              " 'stepped': 15,\n",
              " 'steps': 38,\n",
              " 'strangled': 255,\n",
              " 'stretched': 231,\n",
              " 'suppose': 221,\n",
              " 'sure': 101,\n",
              " 'sweet': 142,\n",
              " 'sweetheart': 222,\n",
              " 'swore': 198,\n",
              " 'table': 235,\n",
              " 'taras': 140,\n",
              " 'tea': 128,\n",
              " 'ten': 79,\n",
              " 'terrance': 183,\n",
              " 'terrible': 249,\n",
              " 'that': 26,\n",
              " 'the': 2,\n",
              " 'their': 56,\n",
              " 'them': 57,\n",
              " 'then': 240,\n",
              " 'there': 28,\n",
              " 'they': 19,\n",
              " 'think': 168,\n",
              " 'three': 29,\n",
              " 'through': 186,\n",
              " 'til': 20,\n",
              " 'time': 54,\n",
              " 'tipped': 51,\n",
              " 'to': 13,\n",
              " 'together': 149,\n",
              " 'too': 219,\n",
              " 'took': 216,\n",
              " 'tore': 233,\n",
              " 'town': 66,\n",
              " 'twas': 239,\n",
              " 'twist': 160,\n",
              " 'under': 234,\n",
              " 'up': 31,\n",
              " 'wall': 45,\n",
              " 'was': 34,\n",
              " 'water': 136,\n",
              " 'we': 157,\n",
              " 'weeks': 30,\n",
              " 'went': 134,\n",
              " 'were': 11,\n",
              " 'when': 44,\n",
              " 'whirligig': 155,\n",
              " 'who': 85,\n",
              " 'wine': 123,\n",
              " 'wink': 114,\n",
              " 'with': 118,\n",
              " 'would': 170,\n",
              " 'youd': 167,\n",
              " 'youll': 90,\n",
              " 'young': 182,\n",
              " 'your': 95}"
            ]
          },
          "metadata": {
            "tags": []
          },
          "execution_count": 7
        }
      ]
    },
    {
      "cell_type": "code",
      "metadata": {
        "id": "fpmFFE7jxu5_",
        "colab_type": "code",
        "colab": {
          "base_uri": "https://localhost:8080/",
          "height": 34
        },
        "outputId": "d835e003-0c43-460c-98ff-db70166e3cd7"
      },
      "source": [
        "total_words = len(word_index)+1\n",
        "print(total_words)"
      ],
      "execution_count": 8,
      "outputs": [
        {
          "output_type": "stream",
          "text": [
            "263\n"
          ],
          "name": "stdout"
        }
      ]
    },
    {
      "cell_type": "code",
      "metadata": {
        "id": "g6E-oj9pyTFH",
        "colab_type": "code",
        "colab": {}
      },
      "source": [
        "input_sequences = []\n",
        "for line in corpus:\n",
        "  token_list = tokenizer.texts_to_sequences([line])[0]\n",
        "  for i in range(1, len(token_list)):\n",
        "    n_gram_sequence = token_list[:i+1]\n",
        "    input_sequences.append(n_gram_sequence)\n",
        "\n",
        "print(input_sequences)\n",
        "  "
      ],
      "execution_count": null,
      "outputs": []
    },
    {
      "cell_type": "code",
      "metadata": {
        "id": "IwPuHXyd33jl",
        "colab_type": "code",
        "colab": {}
      },
      "source": [
        "max_sequence_length = max([len(x) for x in input_sequences])\n",
        "padded = pad_sequences(input_sequences, maxlen=max_sequence_length, padding='pre')\n",
        "input_sequences = np.array(padded)"
      ],
      "execution_count": 17,
      "outputs": []
    },
    {
      "cell_type": "code",
      "metadata": {
        "id": "e220h5mc7V1U",
        "colab_type": "code",
        "colab": {}
      },
      "source": [
        "xs, labels = input_sequences[:, :-1], input_sequences[:,-1]"
      ],
      "execution_count": 18,
      "outputs": []
    },
    {
      "cell_type": "code",
      "metadata": {
        "id": "EcHflEV17uJP",
        "colab_type": "code",
        "colab": {}
      },
      "source": [
        "ys = tf.keras.utils.to_categorical(labels, num_classes=total_words)"
      ],
      "execution_count": 19,
      "outputs": []
    },
    {
      "cell_type": "code",
      "metadata": {
        "id": "_ds45snt78iy",
        "colab_type": "code",
        "colab": {
          "base_uri": "https://localhost:8080/",
          "height": 153
        },
        "outputId": "e93c7cc3-aa30-4052-f07f-31b4eb7c0957"
      },
      "source": [
        "print(tokenizer.word_index['in'])\n",
        "print(tokenizer.word_index['the'])\n",
        "print(tokenizer.word_index['town'])\n",
        "print(tokenizer.word_index['of'])\n",
        "print(tokenizer.word_index['athy'])\n",
        "print(tokenizer.word_index['one'])\n",
        "print(tokenizer.word_index['jeremy'])\n",
        "print(tokenizer.word_index['lanigan'])"
      ],
      "execution_count": 20,
      "outputs": [
        {
          "output_type": "stream",
          "text": [
            "4\n",
            "2\n",
            "66\n",
            "8\n",
            "67\n",
            "68\n",
            "69\n",
            "70\n"
          ],
          "name": "stdout"
        }
      ]
    },
    {
      "cell_type": "code",
      "metadata": {
        "colab_type": "code",
        "id": "49Cv68JOakwv",
        "colab": {
          "base_uri": "https://localhost:8080/",
          "height": 34
        },
        "outputId": "6909269f-9450-440c-894d-698ad037b5cc"
      },
      "source": [
        "print(xs[6])"
      ],
      "execution_count": 21,
      "outputs": [
        {
          "output_type": "stream",
          "text": [
            "[ 0  0  0  4  2 66  8 67 68 69]\n"
          ],
          "name": "stdout"
        }
      ]
    },
    {
      "cell_type": "code",
      "metadata": {
        "id": "la92ZUQ38J6o",
        "colab_type": "code",
        "colab": {
          "base_uri": "https://localhost:8080/",
          "height": 204
        },
        "outputId": "f146dbd4-bb1d-4bb3-b584-b6e3e5ca6a68"
      },
      "source": [
        "print(ys[6])"
      ],
      "execution_count": 22,
      "outputs": [
        {
          "output_type": "stream",
          "text": [
            "[0. 0. 0. 0. 0. 0. 0. 0. 0. 0. 0. 0. 0. 0. 0. 0. 0. 0. 0. 0. 0. 0. 0. 0.\n",
            " 0. 0. 0. 0. 0. 0. 0. 0. 0. 0. 0. 0. 0. 0. 0. 0. 0. 0. 0. 0. 0. 0. 0. 0.\n",
            " 0. 0. 0. 0. 0. 0. 0. 0. 0. 0. 0. 0. 0. 0. 0. 0. 0. 0. 0. 0. 0. 0. 1. 0.\n",
            " 0. 0. 0. 0. 0. 0. 0. 0. 0. 0. 0. 0. 0. 0. 0. 0. 0. 0. 0. 0. 0. 0. 0. 0.\n",
            " 0. 0. 0. 0. 0. 0. 0. 0. 0. 0. 0. 0. 0. 0. 0. 0. 0. 0. 0. 0. 0. 0. 0. 0.\n",
            " 0. 0. 0. 0. 0. 0. 0. 0. 0. 0. 0. 0. 0. 0. 0. 0. 0. 0. 0. 0. 0. 0. 0. 0.\n",
            " 0. 0. 0. 0. 0. 0. 0. 0. 0. 0. 0. 0. 0. 0. 0. 0. 0. 0. 0. 0. 0. 0. 0. 0.\n",
            " 0. 0. 0. 0. 0. 0. 0. 0. 0. 0. 0. 0. 0. 0. 0. 0. 0. 0. 0. 0. 0. 0. 0. 0.\n",
            " 0. 0. 0. 0. 0. 0. 0. 0. 0. 0. 0. 0. 0. 0. 0. 0. 0. 0. 0. 0. 0. 0. 0. 0.\n",
            " 0. 0. 0. 0. 0. 0. 0. 0. 0. 0. 0. 0. 0. 0. 0. 0. 0. 0. 0. 0. 0. 0. 0. 0.\n",
            " 0. 0. 0. 0. 0. 0. 0. 0. 0. 0. 0. 0. 0. 0. 0. 0. 0. 0. 0. 0. 0. 0. 0.]\n"
          ],
          "name": "stdout"
        }
      ]
    },
    {
      "cell_type": "code",
      "metadata": {
        "id": "JWqfykZ28OG6",
        "colab_type": "code",
        "colab": {
          "base_uri": "https://localhost:8080/",
          "height": 221
        },
        "outputId": "e3526a3b-99bd-4eb6-8e5a-a719ec91c84e"
      },
      "source": [
        "print(xs[5])\n",
        "print(ys[5])"
      ],
      "execution_count": 23,
      "outputs": [
        {
          "output_type": "stream",
          "text": [
            "[ 0  0  0  0  4  2 66  8 67 68]\n",
            "[0. 0. 0. 0. 0. 0. 0. 0. 0. 0. 0. 0. 0. 0. 0. 0. 0. 0. 0. 0. 0. 0. 0. 0.\n",
            " 0. 0. 0. 0. 0. 0. 0. 0. 0. 0. 0. 0. 0. 0. 0. 0. 0. 0. 0. 0. 0. 0. 0. 0.\n",
            " 0. 0. 0. 0. 0. 0. 0. 0. 0. 0. 0. 0. 0. 0. 0. 0. 0. 0. 0. 0. 0. 1. 0. 0.\n",
            " 0. 0. 0. 0. 0. 0. 0. 0. 0. 0. 0. 0. 0. 0. 0. 0. 0. 0. 0. 0. 0. 0. 0. 0.\n",
            " 0. 0. 0. 0. 0. 0. 0. 0. 0. 0. 0. 0. 0. 0. 0. 0. 0. 0. 0. 0. 0. 0. 0. 0.\n",
            " 0. 0. 0. 0. 0. 0. 0. 0. 0. 0. 0. 0. 0. 0. 0. 0. 0. 0. 0. 0. 0. 0. 0. 0.\n",
            " 0. 0. 0. 0. 0. 0. 0. 0. 0. 0. 0. 0. 0. 0. 0. 0. 0. 0. 0. 0. 0. 0. 0. 0.\n",
            " 0. 0. 0. 0. 0. 0. 0. 0. 0. 0. 0. 0. 0. 0. 0. 0. 0. 0. 0. 0. 0. 0. 0. 0.\n",
            " 0. 0. 0. 0. 0. 0. 0. 0. 0. 0. 0. 0. 0. 0. 0. 0. 0. 0. 0. 0. 0. 0. 0. 0.\n",
            " 0. 0. 0. 0. 0. 0. 0. 0. 0. 0. 0. 0. 0. 0. 0. 0. 0. 0. 0. 0. 0. 0. 0. 0.\n",
            " 0. 0. 0. 0. 0. 0. 0. 0. 0. 0. 0. 0. 0. 0. 0. 0. 0. 0. 0. 0. 0. 0. 0.]\n"
          ],
          "name": "stdout"
        }
      ]
    },
    {
      "cell_type": "code",
      "metadata": {
        "id": "NfGFZKo98Tvm",
        "colab_type": "code",
        "colab": {
          "base_uri": "https://localhost:8080/",
          "height": 54
        },
        "outputId": "06432573-de07-4a51-d42e-a44fd45fb666"
      },
      "source": [
        "print(tokenizer.word_index)"
      ],
      "execution_count": 24,
      "outputs": [
        {
          "output_type": "stream",
          "text": [
            "{'and': 1, 'the': 2, 'a': 3, 'in': 4, 'all': 5, 'i': 6, 'for': 7, 'of': 8, 'lanigans': 9, 'ball': 10, 'were': 11, 'at': 12, 'to': 13, 'she': 14, 'stepped': 15, 'his': 16, 'girls': 17, 'as': 18, 'they': 19, 'til': 20, 'he': 21, 'again': 22, 'got': 23, 'boys': 24, 'round': 25, 'that': 26, 'her': 27, 'there': 28, 'three': 29, 'weeks': 30, 'up': 31, 'out': 32, 'him': 33, 'was': 34, 'spent': 35, 'learning': 36, 'new': 37, 'steps': 38, 'long': 39, 'away': 40, 'left': 41, 'friends': 42, 'relations': 43, 'when': 44, 'wall': 45, 'myself': 46, 'nice': 47, 'just': 48, 'dancing': 49, 'merry': 50, 'tipped': 51, 'me': 52, 'soon': 53, 'time': 54, 'old': 55, 'their': 56, 'them': 57, 'danced': 58, 'dublin': 59, 'an': 60, 'put': 61, 'leg': 62, 'miss': 63, 'fainted': 64, 'from': 65, 'town': 66, 'athy': 67, 'one': 68, 'jeremy': 69, 'lanigan': 70, 'battered': 71, 'hadnt': 72, 'pound': 73, 'father': 74, 'died': 75, 'made': 76, 'man': 77, 'farm': 78, 'ten': 79, 'acres': 80, 'ground': 81, 'gave': 82, 'grand': 83, 'party': 84, 'who': 85, 'didnt': 86, 'forget': 87, 'come': 88, 'if': 89, 'youll': 90, 'but': 91, 'listen': 92, 'ill': 93, 'make': 94, 'your': 95, 'eyes': 96, 'glisten': 97, 'rows': 98, 'ructions': 99, 'be': 100, 'sure': 101, 'free': 102, 'invitation': 103, 'might': 104, 'ask': 105, 'minute': 106, 'both': 107, 'bees': 108, 'cask': 109, 'judy': 110, 'odaly': 111, 'little': 112, 'milliner': 113, 'wink': 114, 'give': 115, 'call': 116, 'arrived': 117, 'with': 118, 'peggy': 119, 'mcgilligan': 120, 'lashings': 121, 'punch': 122, 'wine': 123, 'ladies': 124, 'potatoes': 125, 'cakes': 126, 'bacon': 127, 'tea': 128, 'nolans': 129, 'dolans': 130, 'ogradys': 131, 'courting': 132, 'songs': 133, 'went': 134, 'plenty': 135, 'water': 136, 'harp': 137, 'once': 138, 'sounded': 139, 'taras': 140, 'hall': 141, 'sweet': 142, 'nelly': 143, 'gray': 144, 'rat': 145, 'catchers': 146, 'daughter': 147, 'singing': 148, 'together': 149, 'doing': 150, 'kinds': 151, 'nonsensical': 152, 'polkas': 153, 'room': 154, 'whirligig': 155, 'julia': 156, 'we': 157, 'banished': 158, 'nonsense': 159, 'twist': 160, 'reel': 161, 'jig': 162, 'ach': 163, 'mavrone': 164, 'how': 165, 'mad': 166, 'youd': 167, 'think': 168, 'ceiling': 169, 'would': 170, 'fall': 171, 'brooks': 172, 'academy': 173, 'learn': 174, 'nothing': 175, 'hearty': 176, 'around': 177, 'couples': 178, 'groups': 179, 'accident': 180, 'happened': 181, 'young': 182, 'terrance': 183, 'mccarthy': 184, 'right': 185, 'through': 186, 'finnertys': 187, 'hoops': 188, 'poor': 189, 'creature': 190, 'cried': 191, 'meelia': 192, 'murther': 193, 'called': 194, 'brothers': 195, 'gathered': 196, 'carmody': 197, 'swore': 198, 'hed': 199, 'go': 200, 'no': 201, 'further': 202, 'had': 203, 'satisfaction': 204, 'midst': 205, 'row': 206, 'kerrigan': 207, 'cheeks': 208, 'same': 209, 'red': 210, 'rose': 211, 'some': 212, 'lads': 213, 'declared': 214, 'painted': 215, 'took': 216, 'small': 217, 'drop': 218, 'too': 219, 'much': 220, 'suppose': 221, 'sweetheart': 222, 'ned': 223, 'morgan': 224, 'so': 225, 'powerful': 226, 'able': 227, 'saw': 228, 'fair': 229, 'colleen': 230, 'stretched': 231, 'by': 232, 'tore': 233, 'under': 234, 'table': 235, 'smashed': 236, 'chaneys': 237, 'oh': 238, 'twas': 239, 'then': 240, 'runctions': 241, 'lick': 242, 'big': 243, 'phelim': 244, 'mchugh': 245, 'replied': 246, 'introduction': 247, 'kicked': 248, 'terrible': 249, 'hullabaloo': 250, 'casey': 251, 'piper': 252, 'near': 253, 'being': 254, 'strangled': 255, 'squeezed': 256, 'pipes': 257, 'bellows': 258, 'chanters': 259, 'ribbons': 260, 'entangled': 261, 'end': 262}\n"
          ],
          "name": "stdout"
        }
      ]
    },
    {
      "cell_type": "code",
      "metadata": {
        "id": "sbtY3isV8XWx",
        "colab_type": "code",
        "colab": {
          "base_uri": "https://localhost:8080/",
          "height": 1000
        },
        "outputId": "c68636bf-fd10-4893-8149-c8ae05e55c23"
      },
      "source": [
        "  model = Sequential()\n",
        "  model.add(Embedding(total_words, 64, input_length=max_sequence_length-1))\n",
        "  model.add(Bidirectional(LSTM(20)))\n",
        "  model.add(Dense(total_words, activation='softmax'))\n",
        "  model.compile(loss='categorical_crossentropy', optimizer='adam', metrics=['accuracy'])\n",
        "  history = model.fit(xs, ys, epochs=50, verbose=1)\n"
      ],
      "execution_count": 32,
      "outputs": [
        {
          "output_type": "stream",
          "text": [
            "Epoch 1/50\n",
            "15/15 [==============================] - 0s 9ms/step - loss: 5.5693 - accuracy: 0.0177\n",
            "Epoch 2/50\n",
            "15/15 [==============================] - 0s 8ms/step - loss: 5.5470 - accuracy: 0.0530\n",
            "Epoch 3/50\n",
            "15/15 [==============================] - 0s 8ms/step - loss: 5.4934 - accuracy: 0.0508\n",
            "Epoch 4/50\n",
            "15/15 [==============================] - 0s 8ms/step - loss: 5.3253 - accuracy: 0.0508\n",
            "Epoch 5/50\n",
            "15/15 [==============================] - 0s 8ms/step - loss: 5.1422 - accuracy: 0.0508\n",
            "Epoch 6/50\n",
            "15/15 [==============================] - 0s 8ms/step - loss: 5.0672 - accuracy: 0.0508\n",
            "Epoch 7/50\n",
            "15/15 [==============================] - 0s 9ms/step - loss: 5.0368 - accuracy: 0.0508\n",
            "Epoch 8/50\n",
            "15/15 [==============================] - 0s 8ms/step - loss: 5.0095 - accuracy: 0.0640\n",
            "Epoch 9/50\n",
            "15/15 [==============================] - 0s 8ms/step - loss: 4.9768 - accuracy: 0.0662\n",
            "Epoch 10/50\n",
            "15/15 [==============================] - 0s 8ms/step - loss: 4.9445 - accuracy: 0.0596\n",
            "Epoch 11/50\n",
            "15/15 [==============================] - 0s 9ms/step - loss: 4.9088 - accuracy: 0.0574\n",
            "Epoch 12/50\n",
            "15/15 [==============================] - 0s 9ms/step - loss: 4.8704 - accuracy: 0.0640\n",
            "Epoch 13/50\n",
            "15/15 [==============================] - 0s 9ms/step - loss: 4.8251 - accuracy: 0.0662\n",
            "Epoch 14/50\n",
            "15/15 [==============================] - 0s 8ms/step - loss: 4.7833 - accuracy: 0.0640\n",
            "Epoch 15/50\n",
            "15/15 [==============================] - 0s 8ms/step - loss: 4.7294 - accuracy: 0.0684\n",
            "Epoch 16/50\n",
            "15/15 [==============================] - 0s 8ms/step - loss: 4.6837 - accuracy: 0.0662\n",
            "Epoch 17/50\n",
            "15/15 [==============================] - 0s 9ms/step - loss: 4.6290 - accuracy: 0.0684\n",
            "Epoch 18/50\n",
            "15/15 [==============================] - 0s 9ms/step - loss: 4.5827 - accuracy: 0.0640\n",
            "Epoch 19/50\n",
            "15/15 [==============================] - 0s 8ms/step - loss: 4.5376 - accuracy: 0.0728\n",
            "Epoch 20/50\n",
            "15/15 [==============================] - 0s 8ms/step - loss: 4.5011 - accuracy: 0.0684\n",
            "Epoch 21/50\n",
            "15/15 [==============================] - 0s 8ms/step - loss: 4.4617 - accuracy: 0.0839\n",
            "Epoch 22/50\n",
            "15/15 [==============================] - 0s 8ms/step - loss: 4.4204 - accuracy: 0.0905\n",
            "Epoch 23/50\n",
            "15/15 [==============================] - 0s 8ms/step - loss: 4.3822 - accuracy: 0.0927\n",
            "Epoch 24/50\n",
            "15/15 [==============================] - 0s 9ms/step - loss: 4.3424 - accuracy: 0.0861\n",
            "Epoch 25/50\n",
            "15/15 [==============================] - 0s 9ms/step - loss: 4.2937 - accuracy: 0.0949\n",
            "Epoch 26/50\n",
            "15/15 [==============================] - 0s 8ms/step - loss: 4.2636 - accuracy: 0.0949\n",
            "Epoch 27/50\n",
            "15/15 [==============================] - 0s 8ms/step - loss: 4.2208 - accuracy: 0.0971\n",
            "Epoch 28/50\n",
            "15/15 [==============================] - 0s 8ms/step - loss: 4.2118 - accuracy: 0.1060\n",
            "Epoch 29/50\n",
            "15/15 [==============================] - 0s 8ms/step - loss: 4.1593 - accuracy: 0.1170\n",
            "Epoch 30/50\n",
            "15/15 [==============================] - 0s 8ms/step - loss: 4.1099 - accuracy: 0.1170\n",
            "Epoch 31/50\n",
            "15/15 [==============================] - 0s 8ms/step - loss: 4.0654 - accuracy: 0.1258\n",
            "Epoch 32/50\n",
            "15/15 [==============================] - 0s 10ms/step - loss: 4.0228 - accuracy: 0.1325\n",
            "Epoch 33/50\n",
            "15/15 [==============================] - 0s 10ms/step - loss: 3.9833 - accuracy: 0.1457\n",
            "Epoch 34/50\n",
            "15/15 [==============================] - 0s 10ms/step - loss: 3.9504 - accuracy: 0.1479\n",
            "Epoch 35/50\n",
            "15/15 [==============================] - 0s 10ms/step - loss: 3.9027 - accuracy: 0.1700\n",
            "Epoch 36/50\n",
            "15/15 [==============================] - 0s 8ms/step - loss: 3.8723 - accuracy: 0.1722\n",
            "Epoch 37/50\n",
            "15/15 [==============================] - 0s 8ms/step - loss: 3.8299 - accuracy: 0.1545\n",
            "Epoch 38/50\n",
            "15/15 [==============================] - 0s 8ms/step - loss: 3.8040 - accuracy: 0.1788\n",
            "Epoch 39/50\n",
            "15/15 [==============================] - 0s 9ms/step - loss: 3.7596 - accuracy: 0.2031\n",
            "Epoch 40/50\n",
            "15/15 [==============================] - 0s 8ms/step - loss: 3.7106 - accuracy: 0.2009\n",
            "Epoch 41/50\n",
            "15/15 [==============================] - 0s 9ms/step - loss: 3.6636 - accuracy: 0.2428\n",
            "Epoch 42/50\n",
            "15/15 [==============================] - 0s 9ms/step - loss: 3.6316 - accuracy: 0.2296\n",
            "Epoch 43/50\n",
            "15/15 [==============================] - 0s 8ms/step - loss: 3.5953 - accuracy: 0.2406\n",
            "Epoch 44/50\n",
            "15/15 [==============================] - 0s 8ms/step - loss: 3.5499 - accuracy: 0.2494\n",
            "Epoch 45/50\n",
            "15/15 [==============================] - 0s 8ms/step - loss: 3.5114 - accuracy: 0.2583\n",
            "Epoch 46/50\n",
            "15/15 [==============================] - 0s 11ms/step - loss: 3.4864 - accuracy: 0.2737\n",
            "Epoch 47/50\n",
            "15/15 [==============================] - 0s 8ms/step - loss: 3.4536 - accuracy: 0.2870\n",
            "Epoch 48/50\n",
            "15/15 [==============================] - 0s 8ms/step - loss: 3.4165 - accuracy: 0.3002\n",
            "Epoch 49/50\n",
            "15/15 [==============================] - 0s 8ms/step - loss: 3.3636 - accuracy: 0.3091\n",
            "Epoch 50/50\n",
            "15/15 [==============================] - 0s 8ms/step - loss: 3.3302 - accuracy: 0.3157\n"
          ],
          "name": "stdout"
        }
      ]
    },
    {
      "cell_type": "code",
      "metadata": {
        "id": "qIRunu2J9Sl2",
        "colab_type": "code",
        "colab": {
          "base_uri": "https://localhost:8080/",
          "height": 255
        },
        "outputId": "74ac040d-2854-4f33-c374-6cc3ff3af92c"
      },
      "source": [
        "model.summary()"
      ],
      "execution_count": 33,
      "outputs": [
        {
          "output_type": "stream",
          "text": [
            "Model: \"sequential_2\"\n",
            "_________________________________________________________________\n",
            "Layer (type)                 Output Shape              Param #   \n",
            "=================================================================\n",
            "embedding_1 (Embedding)      (None, 10, 64)            16832     \n",
            "_________________________________________________________________\n",
            "bidirectional_1 (Bidirection (None, 40)                13600     \n",
            "_________________________________________________________________\n",
            "dense_1 (Dense)              (None, 263)               10783     \n",
            "=================================================================\n",
            "Total params: 41,215\n",
            "Trainable params: 41,215\n",
            "Non-trainable params: 0\n",
            "_________________________________________________________________\n"
          ],
          "name": "stdout"
        }
      ]
    },
    {
      "cell_type": "code",
      "metadata": {
        "id": "BirELX0F9cHe",
        "colab_type": "code",
        "colab": {}
      },
      "source": [
        "import matplotlib.pyplot as plt\n",
        "\n",
        "def plot_graphs(history, string):\n",
        "  plt.plot(history.history[string])\n",
        "  plt.ylabel(string)\n",
        "  plt.xlabel('Epochs')\n",
        "  plt.show()"
      ],
      "execution_count": 34,
      "outputs": []
    },
    {
      "cell_type": "code",
      "metadata": {
        "id": "afhrnhlv-m_O",
        "colab_type": "code",
        "colab": {
          "base_uri": "https://localhost:8080/",
          "height": 279
        },
        "outputId": "42d07758-a213-4118-fb8a-d446ae728bab"
      },
      "source": [
        "plot_graphs(history, 'accuracy')"
      ],
      "execution_count": 35,
      "outputs": [
        {
          "output_type": "display_data",
          "data": {
            "image/png": "[encoded data removed]",
            "text/plain": [
              "<Figure size 432x288 with 1 Axes>"
            ]
          },
          "metadata": {
            "tags": [],
            "needs_background": "light"
          }
        }
      ]
    },
    {
      "cell_type": "code",
      "metadata": {
        "id": "RSRY0oTC-n8v",
        "colab_type": "code",
        "colab": {
          "base_uri": "https://localhost:8080/",
          "height": 54
        },
        "outputId": "0df916c5-83d7-4160-d7b9-45bda9318824"
      },
      "source": [
        "seed_text = \"Devangi went to dublin\"\n",
        "next_words = 100\n",
        "  \n",
        "for _ in range(next_words):\n",
        "\ttoken_list = tokenizer.texts_to_sequences([seed_text])[0]\n",
        "\ttoken_list = pad_sequences([token_list], maxlen=max_sequence_length-1, padding='pre')\n",
        "\tpredicted = model.predict_classes(token_list, verbose=0)\n",
        "\toutput_word = \"\"\n",
        "\tfor word, index in tokenizer.word_index.items():\n",
        "\t\tif index == predicted:\n",
        "\t\t\toutput_word = word\n",
        "\t\t\tbreak\n",
        "\tseed_text += \" \" + output_word\n",
        "print(seed_text)"
      ],
      "execution_count": 38,
      "outputs": [
        {
          "output_type": "stream",
          "text": [
            "Devangi went to dublin the sure as water cask miss hoops eyes glisten glisten glisten wall wall a glisten glisten glisten glisten cask wall wall a glisten glisten glisten glisten glisten wall a glisten glisten glisten glisten glisten wall a glisten glisten glisten glisten glisten wall a glisten glisten glisten glisten glisten wall a glisten glisten glisten glisten glisten wall a glisten glisten glisten glisten glisten wall a glisten glisten glisten glisten glisten wall a glisten glisten glisten glisten glisten wall a glisten glisten glisten glisten glisten wall a glisten glisten glisten glisten glisten wall a glisten glisten glisten glisten glisten wall a glisten\n"
          ],
          "name": "stdout"
        }
      ]
    },
    {
      "cell_type": "code",
      "metadata": {
        "id": "-O0YCd31-tk8",
        "colab_type": "code",
        "colab": {}
      },
      "source": [
        ""
      ],
      "execution_count": null,
      "outputs": []
    }
  ]
}