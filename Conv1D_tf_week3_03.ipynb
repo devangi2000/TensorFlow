{
  "nbformat": 4,
  "nbformat_minor": 0,
  "metadata": {
    "colab": {
      "name": "Conv1D_tf_week3_03.ipynb",
      "provenance": [],
      "authorship_tag": "ABX9TyM/u8G0zlNqbliOZt8jka2a",
      "include_colab_link": true
    },
    "kernelspec": {
      "name": "python3",
      "display_name": "Python 3"
    }
  },
  "cells": [
    {
      "cell_type": "markdown",
      "metadata": {
        "id": "view-in-github",
        "colab_type": "text"
      },
      "source": [
        "<a href=\"https://colab.research.google.com/github/devangi2000/TensorFlow01/blob/master/Conv1D_tf_week3_03.ipynb\" target=\"_parent\"><img src=\"https://colab.research.google.com/assets/colab-badge.svg\" alt=\"Open In Colab\"/></a>"
      ]
    },
    {
      "cell_type": "code",
      "metadata": {
        "id": "KR8P2GTTA1A8",
        "colab_type": "code",
        "colab": {
          "base_uri": "https://localhost:8080/",
          "height": 34
        },
        "outputId": "5b7a10f0-6738-4492-e063-c8e8770294e4"
      },
      "source": [
        "from __future__ import absolute_import, division, print_function, unicode_literals\n",
        "\n",
        "\n",
        "import tensorflow_datasets as tfds\n",
        "import tensorflow as tf\n",
        "print(tf.__version__)"
      ],
      "execution_count": 29,
      "outputs": [
        {
          "output_type": "stream",
          "text": [
            "2.2.0\n"
          ],
          "name": "stdout"
        }
      ]
    },
    {
      "cell_type": "code",
      "metadata": {
        "id": "pg1DSqIuB4EB",
        "colab_type": "code",
        "colab": {}
      },
      "source": [
        "dataset, info = tfds.load('imdb_reviews/subwords8k', as_supervised=True, with_info=True)\n",
        "train_dataset, test_dataset = dataset['train'], dataset['test']"
      ],
      "execution_count": 30,
      "outputs": []
    },
    {
      "cell_type": "code",
      "metadata": {
        "id": "InAtylwkCA_4",
        "colab_type": "code",
        "colab": {}
      },
      "source": [
        "tokenizer = info.features['text'].encoder"
      ],
      "execution_count": 31,
      "outputs": []
    },
    {
      "cell_type": "code",
      "metadata": {
        "id": "2zszXnmbCGld",
        "colab_type": "code",
        "colab": {}
      },
      "source": [
        "BUFFER_SIZE = 10000\n",
        "BATCH_SIZE = 64\n",
        "\n",
        "train_dataset = train_dataset.shuffle(BUFFER_SIZE)\n",
        "train_dataset = train_dataset.padded_batch(BATCH_SIZE, tf.compat.v1.data.get_output_shapes(train_dataset))\n",
        "test_dataset = test_dataset.padded_batch(BATCH_SIZE, tf.compat.v1.data.get_output_shapes(test_dataset))"
      ],
      "execution_count": 32,
      "outputs": []
    },
    {
      "cell_type": "code",
      "metadata": {
        "id": "xmIyaoYgCwao",
        "colab_type": "code",
        "colab": {}
      },
      "source": [
        "model = tf.keras.Sequential([\n",
        "    tf.keras.layers.Embedding(tokenizer.vocab_size, 64),\n",
        "    tf.keras.layers.Conv1D(128, 5, activation='relu'),\n",
        "    tf.keras.layers.GlobalAveragePooling1D(),\n",
        "    tf.keras.layers.Dense(64, activation='relu'),\n",
        "    tf.keras.layers.Dense(1, activation='sigmoid')\n",
        "])"
      ],
      "execution_count": 33,
      "outputs": []
    },
    {
      "cell_type": "code",
      "metadata": {
        "id": "whqmWUrFDafZ",
        "colab_type": "code",
        "colab": {}
      },
      "source": [
        "num_epochs=10\n",
        "model.compile(optimizer='adam', loss='binary_crossentropy', metrics=['accuracy'])"
      ],
      "execution_count": 34,
      "outputs": []
    },
    {
      "cell_type": "code",
      "metadata": {
        "id": "DhIJ2oY5DoZK",
        "colab_type": "code",
        "colab": {
          "base_uri": "https://localhost:8080/",
          "height": 357
        },
        "outputId": "5f46f6ee-0e8c-448f-f089-cee615fc55f1"
      },
      "source": [
        "history = model.fit(train_dataset, epochs=num_epochs, validation_data=test_dataset)"
      ],
      "execution_count": 35,
      "outputs": [
        {
          "output_type": "stream",
          "text": [
            "Epoch 1/10\n",
            "391/391 [==============================] - 240s 615ms/step - loss: 0.4540 - accuracy: 0.7730 - val_loss: 0.3276 - val_accuracy: 0.8634\n",
            "Epoch 2/10\n",
            "391/391 [==============================] - 241s 617ms/step - loss: 0.2224 - accuracy: 0.9173 - val_loss: 0.2991 - val_accuracy: 0.8788\n",
            "Epoch 3/10\n",
            "391/391 [==============================] - 242s 619ms/step - loss: 0.1716 - accuracy: 0.9380 - val_loss: 0.3418 - val_accuracy: 0.8696\n",
            "Epoch 4/10\n",
            "391/391 [==============================] - 245s 625ms/step - loss: 0.1360 - accuracy: 0.9522 - val_loss: 0.3662 - val_accuracy: 0.8680\n",
            "Epoch 5/10\n",
            "391/391 [==============================] - 242s 620ms/step - loss: 0.1089 - accuracy: 0.9617 - val_loss: 0.4257 - val_accuracy: 0.8643\n",
            "Epoch 6/10\n",
            "391/391 [==============================] - 241s 617ms/step - loss: 0.0848 - accuracy: 0.9727 - val_loss: 0.4722 - val_accuracy: 0.8613\n",
            "Epoch 7/10\n",
            "391/391 [==============================] - 250s 639ms/step - loss: 0.0670 - accuracy: 0.9791 - val_loss: 0.5549 - val_accuracy: 0.8558\n",
            "Epoch 8/10\n",
            "391/391 [==============================] - 242s 620ms/step - loss: 0.0543 - accuracy: 0.9845 - val_loss: 0.6448 - val_accuracy: 0.8566\n",
            "Epoch 9/10\n",
            "391/391 [==============================] - 246s 629ms/step - loss: 0.0439 - accuracy: 0.9876 - val_loss: 0.7027 - val_accuracy: 0.8531\n",
            "Epoch 10/10\n",
            "391/391 [==============================] - 242s 619ms/step - loss: 0.0340 - accuracy: 0.9906 - val_loss: 0.6400 - val_accuracy: 0.8536\n"
          ],
          "name": "stdout"
        }
      ]
    },
    {
      "cell_type": "code",
      "metadata": {
        "id": "x35T43JcDzYE",
        "colab_type": "code",
        "colab": {
          "base_uri": "https://localhost:8080/",
          "height": 544
        },
        "outputId": "a311f79f-9fe1-4e74-a4f5-a89bdb52a303"
      },
      "source": [
        "import matplotlib.pyplot as plt\n",
        "%matplotlib inline\n",
        "\n",
        "def plot_graphs(history, string):\n",
        "  plt.plot(history.history[string])\n",
        "  plt.plot(history.history['val_'+string])\n",
        "  plt.xlabel('Epochs')\n",
        "  plt.ylabel(string)\n",
        "  plt.legend([string, 'val_'+string])\n",
        "  plt.show()\n",
        "\n",
        "plot_graphs(history, 'accuracy')\n",
        "plot_graphs(history, 'loss')"
      ],
      "execution_count": 36,
      "outputs": [
        {
          "output_type": "display_data",
          "data": {
            "image/png": "[encoded data removed]",
            "text/plain": [
              "<Figure size 432x288 with 1 Axes>"
            ]
          },
          "metadata": {
            "tags": [],
            "needs_background": "light"
          }
        },
        {
          "output_type": "display_data",
          "data": {
            "image/png": "[encoded data removed]",
            "text/plain": [
              "<Figure size 432x288 with 1 Axes>"
            ]
          },
          "metadata": {
            "tags": [],
            "needs_background": "light"
          }
        }
      ]
    },
    {
      "cell_type": "code",
      "metadata": {
        "id": "zWKoiDcBGHJE",
        "colab_type": "code",
        "colab": {}
      },
      "source": [
        ""
      ],
      "execution_count": null,
      "outputs": []
    }
  ]
}