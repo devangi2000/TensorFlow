{
  "nbformat": 4,
  "nbformat_minor": 0,
  "metadata": {
    "colab": {
      "name": "Conv1D+GlobalMaxPool.ipynb",
      "provenance": [],
      "collapsed_sections": [],
      "authorship_tag": "ABX9TyOc+wGr8J2dCEA2c6FZjjMm",
      "include_colab_link": true
    },
    "kernelspec": {
      "name": "python3",
      "display_name": "Python 3"
    }
  },
  "cells": [
    {
      "cell_type": "markdown",
      "metadata": {
        "id": "view-in-github",
        "colab_type": "text"
      },
      "source": [
        "<a href=\"https://colab.research.google.com/github/devangi2000/TensorFlow01/blob/master/Conv1D%2BGlobalMaxPool.ipynb\" target=\"_parent\"><img src=\"https://colab.research.google.com/assets/colab-badge.svg\" alt=\"Open In Colab\"/></a>"
      ]
    },
    {
      "cell_type": "code",
      "metadata": {
        "id": "jg8ckJ85uTgN",
        "colab_type": "code",
        "colab": {
          "base_uri": "https://localhost:8080/",
          "height": 1000
        },
        "outputId": "2615747b-4107-4dac-fbfc-dadff236b2ea"
      },
      "source": [
        "import numpy as np\n",
        "\n",
        "import json\n",
        "import tensorflow as tf\n",
        "\n",
        "from tensorflow.keras.preprocessing.text import Tokenizer\n",
        "from tensorflow.keras.preprocessing.sequence import pad_sequences\n",
        "\n",
        "!wget --no-check-certificate \\\n",
        "    https://storage.googleapis.com/laurencemoroney-blog.appspot.com/sarcasm.json \\\n",
        "    -O /tmp/sarcasm.json\n",
        "\n",
        "vocab_size = 1000\n",
        "embedding_dim = 16\n",
        "max_length = 120\n",
        "trunc_type='post'\n",
        "padding_type='post'\n",
        "oov_tok = \"<OOV>\"\n",
        "training_size = 20000\n",
        "\n",
        "\n",
        "with open(\"/tmp/sarcasm.json\", 'r') as f:\n",
        "    datastore = json.load(f)\n",
        "\n",
        "\n",
        "sentences = []\n",
        "labels = []\n",
        "urls = []\n",
        "for item in datastore:\n",
        "    sentences.append(item['headline'])\n",
        "    labels.append(item['is_sarcastic'])\n",
        "\n",
        "training_sentences = sentences[0:training_size]\n",
        "testing_sentences = sentences[training_size:]\n",
        "training_labels = labels[0:training_size]\n",
        "testing_labels = labels[training_size:]\n",
        "\n",
        "tokenizer = Tokenizer(num_words=vocab_size, oov_token=oov_tok)\n",
        "tokenizer.fit_on_texts(training_sentences)\n",
        "\n",
        "word_index = tokenizer.word_index\n",
        "\n",
        "training_sequences = tokenizer.texts_to_sequences(training_sentences)\n",
        "training_padded = pad_sequences(training_sequences, maxlen=max_length, padding=padding_type, truncating=trunc_type)\n",
        "\n",
        "testing_sequences = tokenizer.texts_to_sequences(testing_sentences)\n",
        "testing_padded = pad_sequences(testing_sequences, maxlen=max_length, padding=padding_type, truncating=trunc_type)\n",
        "\n",
        "model = tf.keras.Sequential([\n",
        "    tf.keras.layers.Embedding(vocab_size, embedding_dim, input_length=max_length),\n",
        "    tf.keras.layers.Conv1D(128, 5, activation='relu'),\n",
        "    tf.keras.layers.GlobalMaxPooling1D(),\n",
        "    tf.keras.layers.Dense(24, activation='relu'),\n",
        "    tf.keras.layers.Dense(1, activation='sigmoid')\n",
        "])\n",
        "model.compile(loss='binary_crossentropy',optimizer='adam',metrics=['accuracy'])\n",
        "model.summary()\n",
        "\n",
        "num_epochs = 50\n",
        "\n",
        "training_padded = np.array(training_padded)\n",
        "training_labels = np.array(training_labels)\n",
        "testing_padded = np.array(testing_padded)\n",
        "testing_labels = np.array(testing_labels)\n",
        "\n",
        "history = model.fit(training_padded, training_labels, epochs=num_epochs, validation_data=(testing_padded, testing_labels), verbose=1)\n"
      ],
      "execution_count": 1,
      "outputs": [
        {
          "output_type": "stream",
          "text": [
            "--2020-06-18 09:20:10--  https://storage.googleapis.com/laurencemoroney-blog.appspot.com/sarcasm.json\n",
            "Resolving storage.googleapis.com (storage.googleapis.com)... 74.125.124.128, 2607:f8b0:4001:c03::80\n",
            "Connecting to storage.googleapis.com (storage.googleapis.com)|74.125.124.128|:443... connected.\n",
            "HTTP request sent, awaiting response... 200 OK\n",
            "Length: 5643545 (5.4M) [application/json]\n",
            "Saving to: ‘/tmp/sarcasm.json’\n",
            "\n",
            "\r/tmp/sarcasm.json     0%[                    ]       0  --.-KB/s               \r/tmp/sarcasm.json   100%[===================>]   5.38M  --.-KB/s    in 0.06s   \n",
            "\n",
            "2020-06-18 09:20:11 (87.7 MB/s) - ‘/tmp/sarcasm.json’ saved [5643545/5643545]\n",
            "\n",
            "Model: \"sequential\"\n",
            "_________________________________________________________________\n",
            "Layer (type)                 Output Shape              Param #   \n",
            "=================================================================\n",
            "embedding (Embedding)        (None, 120, 16)           16000     \n",
            "_________________________________________________________________\n",
            "conv1d (Conv1D)              (None, 116, 128)          10368     \n",
            "_________________________________________________________________\n",
            "global_max_pooling1d (Global (None, 128)               0         \n",
            "_________________________________________________________________\n",
            "dense (Dense)                (None, 24)                3096      \n",
            "_________________________________________________________________\n",
            "dense_1 (Dense)              (None, 1)                 25        \n",
            "=================================================================\n",
            "Total params: 29,489\n",
            "Trainable params: 29,489\n",
            "Non-trainable params: 0\n",
            "_________________________________________________________________\n",
            "Epoch 1/50\n",
            "625/625 [==============================] - 8s 13ms/step - loss: 0.4737 - accuracy: 0.7610 - val_loss: 0.4071 - val_accuracy: 0.8098\n",
            "Epoch 2/50\n",
            "625/625 [==============================] - 8s 12ms/step - loss: 0.3577 - accuracy: 0.8405 - val_loss: 0.3954 - val_accuracy: 0.8174\n",
            "Epoch 3/50\n",
            "625/625 [==============================] - 8s 12ms/step - loss: 0.3212 - accuracy: 0.8602 - val_loss: 0.3900 - val_accuracy: 0.8247\n",
            "Epoch 4/50\n",
            "625/625 [==============================] - 8s 12ms/step - loss: 0.2885 - accuracy: 0.8737 - val_loss: 0.4051 - val_accuracy: 0.8202\n",
            "Epoch 5/50\n",
            "625/625 [==============================] - 8s 12ms/step - loss: 0.2591 - accuracy: 0.8913 - val_loss: 0.4403 - val_accuracy: 0.8085\n",
            "Epoch 6/50\n",
            "625/625 [==============================] - 8s 12ms/step - loss: 0.2287 - accuracy: 0.9055 - val_loss: 0.4598 - val_accuracy: 0.8080\n",
            "Epoch 7/50\n",
            "625/625 [==============================] - 8s 13ms/step - loss: 0.1979 - accuracy: 0.9211 - val_loss: 0.5026 - val_accuracy: 0.8068\n",
            "Epoch 8/50\n",
            "625/625 [==============================] - 8s 13ms/step - loss: 0.1699 - accuracy: 0.9337 - val_loss: 0.5408 - val_accuracy: 0.8028\n",
            "Epoch 9/50\n",
            "625/625 [==============================] - 8s 13ms/step - loss: 0.1437 - accuracy: 0.9457 - val_loss: 0.6215 - val_accuracy: 0.7953\n",
            "Epoch 10/50\n",
            "625/625 [==============================] - 8s 13ms/step - loss: 0.1202 - accuracy: 0.9542 - val_loss: 0.7312 - val_accuracy: 0.7951\n",
            "Epoch 11/50\n",
            "625/625 [==============================] - 8s 13ms/step - loss: 0.1007 - accuracy: 0.9635 - val_loss: 0.7451 - val_accuracy: 0.7898\n",
            "Epoch 12/50\n",
            "625/625 [==============================] - 8s 13ms/step - loss: 0.0865 - accuracy: 0.9682 - val_loss: 0.8390 - val_accuracy: 0.7951\n",
            "Epoch 13/50\n",
            "625/625 [==============================] - 8s 12ms/step - loss: 0.0737 - accuracy: 0.9749 - val_loss: 0.8875 - val_accuracy: 0.7874\n",
            "Epoch 14/50\n",
            "625/625 [==============================] - 8s 12ms/step - loss: 0.0637 - accuracy: 0.9767 - val_loss: 0.9622 - val_accuracy: 0.7889\n",
            "Epoch 15/50\n",
            "625/625 [==============================] - 8s 13ms/step - loss: 0.0549 - accuracy: 0.9805 - val_loss: 1.0578 - val_accuracy: 0.7846\n",
            "Epoch 16/50\n",
            "625/625 [==============================] - 8s 12ms/step - loss: 0.0497 - accuracy: 0.9827 - val_loss: 1.1925 - val_accuracy: 0.7852\n",
            "Epoch 17/50\n",
            "625/625 [==============================] - 8s 12ms/step - loss: 0.0486 - accuracy: 0.9816 - val_loss: 1.2317 - val_accuracy: 0.7858\n",
            "Epoch 18/50\n",
            "625/625 [==============================] - 8s 12ms/step - loss: 0.0436 - accuracy: 0.9847 - val_loss: 1.3696 - val_accuracy: 0.7886\n",
            "Epoch 19/50\n",
            "625/625 [==============================] - 8s 13ms/step - loss: 0.0404 - accuracy: 0.9858 - val_loss: 1.3146 - val_accuracy: 0.7882\n",
            "Epoch 20/50\n",
            "625/625 [==============================] - 8s 13ms/step - loss: 0.0402 - accuracy: 0.9853 - val_loss: 1.3664 - val_accuracy: 0.7858\n",
            "Epoch 21/50\n",
            "625/625 [==============================] - 8s 13ms/step - loss: 0.0342 - accuracy: 0.9880 - val_loss: 1.5814 - val_accuracy: 0.7822\n",
            "Epoch 22/50\n",
            "625/625 [==============================] - 8s 13ms/step - loss: 0.0308 - accuracy: 0.9889 - val_loss: 1.6294 - val_accuracy: 0.7822\n",
            "Epoch 23/50\n",
            "625/625 [==============================] - 8s 13ms/step - loss: 0.0302 - accuracy: 0.9891 - val_loss: 1.5922 - val_accuracy: 0.7748\n",
            "Epoch 24/50\n",
            "625/625 [==============================] - 8s 13ms/step - loss: 0.0399 - accuracy: 0.9852 - val_loss: 1.7092 - val_accuracy: 0.7791\n",
            "Epoch 25/50\n",
            "625/625 [==============================] - 8s 13ms/step - loss: 0.0304 - accuracy: 0.9883 - val_loss: 1.7898 - val_accuracy: 0.7848\n",
            "Epoch 26/50\n",
            "625/625 [==============================] - 8s 13ms/step - loss: 0.0310 - accuracy: 0.9884 - val_loss: 1.7047 - val_accuracy: 0.7804\n",
            "Epoch 27/50\n",
            "625/625 [==============================] - 8s 12ms/step - loss: 0.0271 - accuracy: 0.9897 - val_loss: 1.6814 - val_accuracy: 0.7798\n",
            "Epoch 28/50\n",
            "625/625 [==============================] - 8s 13ms/step - loss: 0.0272 - accuracy: 0.9892 - val_loss: 1.9028 - val_accuracy: 0.7816\n",
            "Epoch 29/50\n",
            "625/625 [==============================] - 8s 12ms/step - loss: 0.0263 - accuracy: 0.9898 - val_loss: 1.8810 - val_accuracy: 0.7815\n",
            "Epoch 30/50\n",
            "625/625 [==============================] - 8s 12ms/step - loss: 0.0283 - accuracy: 0.9893 - val_loss: 1.8653 - val_accuracy: 0.7812\n",
            "Epoch 31/50\n",
            "625/625 [==============================] - 8s 12ms/step - loss: 0.0263 - accuracy: 0.9900 - val_loss: 1.9668 - val_accuracy: 0.7840\n",
            "Epoch 32/50\n",
            "625/625 [==============================] - 8s 13ms/step - loss: 0.0234 - accuracy: 0.9902 - val_loss: 2.0113 - val_accuracy: 0.7803\n",
            "Epoch 33/50\n",
            "625/625 [==============================] - 8s 12ms/step - loss: 0.0217 - accuracy: 0.9912 - val_loss: 1.9860 - val_accuracy: 0.7787\n",
            "Epoch 34/50\n",
            "625/625 [==============================] - 8s 13ms/step - loss: 0.0252 - accuracy: 0.9899 - val_loss: 2.1233 - val_accuracy: 0.7782\n",
            "Epoch 35/50\n",
            "625/625 [==============================] - 8s 13ms/step - loss: 0.0371 - accuracy: 0.9851 - val_loss: 2.0364 - val_accuracy: 0.7819\n",
            "Epoch 36/50\n",
            "625/625 [==============================] - 8s 13ms/step - loss: 0.0281 - accuracy: 0.9887 - val_loss: 2.0516 - val_accuracy: 0.7755\n",
            "Epoch 37/50\n",
            "625/625 [==============================] - 8s 12ms/step - loss: 0.0239 - accuracy: 0.9901 - val_loss: 2.1343 - val_accuracy: 0.7775\n",
            "Epoch 38/50\n",
            "625/625 [==============================] - 8s 13ms/step - loss: 0.0203 - accuracy: 0.9921 - val_loss: 2.1585 - val_accuracy: 0.7739\n",
            "Epoch 39/50\n",
            "625/625 [==============================] - 8s 13ms/step - loss: 0.0238 - accuracy: 0.9905 - val_loss: 2.0698 - val_accuracy: 0.7795\n",
            "Epoch 40/50\n",
            "625/625 [==============================] - 8s 12ms/step - loss: 0.0212 - accuracy: 0.9918 - val_loss: 2.1839 - val_accuracy: 0.7760\n",
            "Epoch 41/50\n",
            "625/625 [==============================] - 8s 13ms/step - loss: 0.0204 - accuracy: 0.9915 - val_loss: 2.3462 - val_accuracy: 0.7754\n",
            "Epoch 42/50\n",
            "625/625 [==============================] - 8s 13ms/step - loss: 0.0205 - accuracy: 0.9911 - val_loss: 2.1287 - val_accuracy: 0.7740\n",
            "Epoch 43/50\n",
            "625/625 [==============================] - 8s 13ms/step - loss: 0.0215 - accuracy: 0.9909 - val_loss: 2.1941 - val_accuracy: 0.7760\n",
            "Epoch 44/50\n",
            "625/625 [==============================] - 8s 12ms/step - loss: 0.0247 - accuracy: 0.9896 - val_loss: 2.3370 - val_accuracy: 0.7724\n",
            "Epoch 45/50\n",
            "625/625 [==============================] - 8s 13ms/step - loss: 0.0279 - accuracy: 0.9890 - val_loss: 2.2788 - val_accuracy: 0.7822\n",
            "Epoch 46/50\n",
            "625/625 [==============================] - 8s 13ms/step - loss: 0.0230 - accuracy: 0.9901 - val_loss: 2.2533 - val_accuracy: 0.7778\n",
            "Epoch 47/50\n",
            "625/625 [==============================] - 8s 13ms/step - loss: 0.0190 - accuracy: 0.9918 - val_loss: 2.3177 - val_accuracy: 0.7863\n",
            "Epoch 48/50\n",
            "625/625 [==============================] - 8s 13ms/step - loss: 0.0215 - accuracy: 0.9912 - val_loss: 2.2281 - val_accuracy: 0.7714\n",
            "Epoch 49/50\n",
            "625/625 [==============================] - 8s 12ms/step - loss: 0.0209 - accuracy: 0.9911 - val_loss: 2.3809 - val_accuracy: 0.7793\n",
            "Epoch 50/50\n",
            "625/625 [==============================] - 8s 13ms/step - loss: 0.0208 - accuracy: 0.9909 - val_loss: 2.4904 - val_accuracy: 0.7767\n"
          ],
          "name": "stdout"
        }
      ]
    },
    {
      "cell_type": "code",
      "metadata": {
        "id": "0C2kyOzMulRj",
        "colab_type": "code",
        "colab": {
          "base_uri": "https://localhost:8080/",
          "height": 542
        },
        "outputId": "c99e5343-bfff-4278-9a15-f83cca3db3b9"
      },
      "source": [
        "import matplotlib.pyplot as plt\n",
        "\n",
        "\n",
        "def plot_graphs(history, string):\n",
        "  plt.plot(history.history[string])\n",
        "  plt.plot(history.history['val_'+string])\n",
        "  plt.xlabel(\"Epochs\")\n",
        "  plt.ylabel(string)\n",
        "  plt.legend([string, 'val_'+string])\n",
        "  plt.show()\n",
        "\n",
        "plot_graphs(history, 'accuracy')\n",
        "plot_graphs(history, 'loss')"
      ],
      "execution_count": 2,
      "outputs": [
        {
          "output_type": "display_data",
          "data": {
            "image/png": "[encoded data removed]",
            "text/plain": [
              "<Figure size 432x288 with 1 Axes>"
            ]
          },
          "metadata": {
            "tags": [],
            "needs_background": "light"
          }
        },
        {
          "output_type": "display_data",
          "data": {
            "image/png": "[encoded data removed]",
            "text/plain": [
              "<Figure size 432x288 with 1 Axes>"
            ]
          },
          "metadata": {
            "tags": [],
            "needs_background": "light"
          }
        }
      ]
    },
    {
      "cell_type": "code",
      "metadata": {
        "id": "b-kDKE8UunhL",
        "colab_type": "code",
        "colab": {}
      },
      "source": [
        "model.save(\"test.h5\")"
      ],
      "execution_count": null,
      "outputs": []
    }
  ]
}